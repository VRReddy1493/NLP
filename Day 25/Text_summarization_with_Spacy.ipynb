{
  "nbformat": 4,
  "nbformat_minor": 0,
  "metadata": {
    "colab": {
      "name": "Text summarization with Spacy.ipynb",
      "provenance": []
    },
    "kernelspec": {
      "name": "python3",
      "display_name": "Python 3"
    },
    "language_info": {
      "name": "python"
    }
  },
  "cells": [
    {
      "cell_type": "markdown",
      "metadata": {
        "id": "PD330zPnxkWQ"
      },
      "source": [
        "# Text summarization with Spacy"
      ]
    },
    {
      "cell_type": "markdown",
      "metadata": {
        "id": "CwhiBR3bydK0"
      },
      "source": [
        "![images.jpg](data:image/jpeg;base64,/9j/4AAQSkZJRgABAQAAAQABAAD/2wCEAAkGBxMQEBUSEBIQFRUWFxUQFhYVFxUVFRAVFRUXGBYSFRUYHSgiGB0lGxUVITEhJikrLi4uGB8zODUsNygtLisBCgoKDg0OGhAQGi0eHSUrMS0tLS0tLS0tLS0tLS0tLS0tLS0tKy0tLS0tLS0tLS0tLS0tLS0tLS0tLS0tLS0tLf/AABEIAJIBWQMBIgACEQEDEQH/xAAbAAEAAgMBAQAAAAAAAAAAAAAABAUBAwYCB//EAEIQAAICAQICBAgLCAICAwAAAAECAAMRBBITIQUGMUEUIjJRYXGy0SMzUlNic5GSk6HBFUJjgYKxs+Fy0kOiFiQ0/8QAGQEBAQEBAQEAAAAAAAAAAAAAAAEDBAIF/8QAKBEBAQABAwMFAAEFAQAAAAAAAAERAiExAxNBEjJRYfDRIiOBkeEE/9oADAMBAAIRAxEAPwD7PrdXsAAGWPIDz+k+iVz1s3N7HPoU7VHoGOc97t1tjHuPDHoAAz+c9Zm2jS5deu3UjjRp38T8Sz3x4Gn8T8Sz/tJETTEeEfwNf4n4ln/aPA0/ifiWf9ptutVFLOwVQMknkAPOTIWh6d0t7bKNRRY2CdqOrNgd+BJsJHgaeez8Sz3x4En8T8Sz/tJGJjeM7cjOM4zzx542GjwJP4n4ln/aPAk/ifiWf9pviXEMNK6YDyWsH9bH2iZJ02sZWC2cweSt2c+4MP1mMTxem4Eef+/dPNkr1p14uy3BmZF6NtL1Ix7cYPpI5E/aJKnO6pczJERCkREBERAREQEREBERAREQEREBERAREQEREBERAREQEREBERAo9P5Vv1r/AKTdiatP5Vn1r/pN06Zw4fLGIxMxGQnzfU8erT6w0qy56Q+EI3IeAdu8hlGQuO0gE4zifSJgws5fL+lb9WNFV4PZqXuNl5ThcQ//AFRneCbAC5AzsY8ycYl31frQdKO4N2LNJpzUbDYeJjdvznlkDGQeydtmImxaxEGJUZiIkG3oH4hfW/ttLCV/QPxC+t/baWE57y7NHthERI9EREBERAREQEREBERAREQEREBERATGZE1ms2naoyx5gdwHymkFkdvKtf8Aows9TRay1dWabhc5jMpDQ3z1/wB//UxwG+ev+/8A6nrtVO9PheZjMo+A3z1/3/8AUcBvnr/v/wCpe1TvT4XmYzKPgN89f9//AFHAb56/7/8AqO1TvT4XmYzKPgN89f8Af/1Mqjr5Ntn9WGk7dO9F5mJC0WsLHa4w454HYR5xJm6Z2YazVKpKPKs+tf8ASbszTR5Vv1r/AKTbOqOOMzMr+nWtGns8HKi3HiZIHPPMAnkDjOPTObq6efTLaXa9iOCFr1S4sR7GK7y1Yw1eR3DPinzxhcOzzHbORXrVfYoFVNRcLc7FjalZFIU5TKhiGDebtEjp1qtrNtrivhsdMtSneRW11e47tqkkDGTjJjG2VmnMy7YRmcknWi+xU4VNW4pe7bzYq/AMoymV3EMGyMiWOm6bsuf4KtNiJW9u5iHHEUthOWDj09sXbdPK8ic31c60HV27NgCshsUqLPECtgpYWUDdjn4pIk6264a6tS6ClkchAOZYY8Z2P9hJdnmreIiBt6B+IX1v7bSwlf0D8Qvrf22lhOe8uzR7YRESPRESv6R6Q4eFUbnPMDswPlMe4SyW3EFhEoD0jf3cIejDH85j9oajz1fYffNOzqMOgic/+0NR56vsPvj9oajz1fYffHZ1DoInP/tDUeer7D74/aGo89X2H3x2dQ6CJz/7Q1Hnq+w++B0hqPPV90++OzqHQRKjTdKMGAtCjPIMpOM+ZgeyWymZ3TZyMxESBERAo6G3l387sP5KduPtBm7MjaDyP67f8rySJ0uLwTM5fr9q9RTTW+nW4oH+HNG03JXtOGQMDnDYyMSHV1u20k1nwgJozrBaw4bWsrFdrqPI7OcbVfTw7OBOMt64Xbm2UUlVvo0xJdgSb0QhgMdgL9/dPdfW29wiLTSLWfVUtl24YbTjO4EDO1uUW42Tl15mTOI0HXh2UNdVRWLNOuprJdsBmsNfDs5fKAxt9U9aHrndbw0GnRbW1L6Qh2dVXbVxBZjyuwjlKtljthMZnL9H9aLLNQmmalBaLbq7cM22uutQRauRz3FlGD6fNOnMRGrUnbtcfusv2E4I/MS7lHr/AIs+tPbWXsx6nht0fKj0/lW/Wv8ApNxmnT+VZ9a/6Tfiaxg06zSpchSwZU/yI8xB7jnnn0Str6uUBXB4rl9oLvY7WjYSU22E5XBJIx3ky4MxKuVZp+gqUH/kY7bE3O7szC3G/LE8+weqax1bo54FgytacnYbeFkVsuD4rAEjd2y3iDPhW0dBUpjAckJZXlnZmK2EF9xJ5kkDnPH7Ao3q4DjaqpgO4RwgwvEXOHx6Za4mIEDo7oaqhy6cTmMAM7stYJyRWpOEGfNJb6ZTYthHjKCoOTyDdoxNkzFiYZiYzMiBt6B+IX1v7bSwlf0D8Qvrf22lhOa8uzR7YRESPQZzNhzdcT8vZ6gqggfmZ005n/y3fWn2EmvR5Wcs+kyFo+m9Nc4SrUUO5zhVdWY47cASXafFb1H+04vqjrlGmrrs1NHKpgakqdL07f3w3Mjl3Z7Jvaurh2ttqrjcQNx2rkgbm8w855T3icLrUZ1pOpNoddTUx5ugWrawqYhT2nxQfSecia1WTTUhmvLWm6ws9+orXcoIVAa8tux5K8lO05ibpnZ9EU9vbNdGqR/IdGyNwwQcj5Qx3TjNFcLGq8Ls1CvwdOaQjWKbHZfhQUXk5zjO4cvRIXRCvVQOC13wVfFK5sbLpexsrwfOuRiLhcvouJgT5303beVqdnZEtS7UKWe+rZazqaU+CUkkIcbDyM73QljUhc5bau44xlsDJx3c+6WcJLls1C5Vh6D+Ql90a+6mtj3op+0CUNvkn1H+0u+iPiKvq09kTLrTaFTIiJzoRExAoej/ACP67f8AK8lyJoPIP/O3/K8k5nU4sbIPSvRVeoC7zYChJVq3ethkYIypGRgmV2p6n6SxFQ1uqrW1ACO6bq25lXwfG58+ffL+DEhL4VH/AMc0/PxG52Vag+M3OykKK27e7avLvnqnq9p1YOEbcGtsHjN5VwxYcZ7x9ktZiSwwom6oaQoqGtsLWKFw7gqgfeMHPIhuYPbPeg6qaakgothItOpy1juTaU2FmLHn4vdLqZl3XOVJ0b0Dw9bfrHZGe1UqAVSoREz25JyxJ5n1cpdtEREaNf8AFn1r7Yl7KLpD4s+tfbEvZl1PDbo+VJp/Ks+tf9JumjT+Vb9a/wCk3GaRgh9M9JLpaHvsztQZOMDtOBzPIdvb3SJpunBh/CKzTsVXyG4qMr8hsdR4xz+7jPMdsn9JVO9TLWUDHs3jKt9Fh5j2ejtnJ/8AxW167fEoo3Gp0potsFZetixsNoVWRmyFyq5AUdsskw9TGF9b1l0iIrtcoVt23xXJO0jdlQuRgkZyO+aqOtFBe5SxAqFbFsMQ4sGRswPGPoGSZA6M6tWJ4zbAzJqAw4ltxD3BQDxLBluS8zgeqRLeql5QrlOQ0rpttsqJsoQqULIuUU5yGHP0RPtZJi55X9nWXSoqu1y4cMy8nJITAclQCRjIznszJL9L0K6VmxdzgFcBiCG8klgCFz3ZxmUXRnVp68E7AeHqVYcSy0h7mUg8Szm3knJOPVN+j6J1FL4TgFHSlLWYturNSbTw0xhgfOSMemLPh5vK20XS1NzMlVgZl7Rhh34yCQNwz3rkSPb0s9d612Ustbvwks3rzfGR4naF5EZzKzqz1cfTW7nwVrRqa2411pZWbJPDfxahyHijd/KSKtHqjrTbamnepSRUeK4alCvNhVw8M5Oee7sPd3sJ4q/noTzPayUrPQdgFC8x2v3/AE2k/jL8pftEr+haFNCkqM5fu+m0neCp8lfsnJr9WdnZo9seuMvyl+0TBuX5Q+0THgqfJX7I8GT5K/ZPP9z6ekV+lEV9jHHmPcf5ynVs23EHlxT7KS1u6IR33MOQ5Bewf7lUiAWXAAAcU4A82xJp/wCTuerV6/8AC7NphZiZnYoYBiYjBDEGZiUImIgeLvJPqP8AaXPRNiiirmPITv8AoiU9vkn1H+0tuitOpoq8UeQnd9ETHr59MwmpM4y/KX7RHGX5S/aJ58GT5K/ZHgqfJX7Jyf1/SMm9fOPtEiDpVN5RjtI7M9jenMknSp8lfskMdEIbC7eNzyB3Lj0TPqXrbenH2IXRx8Q/87f8jyVIvRnJD/zt/wAjyTifScah0vWXiOdtLGoXNpTYGUstisVJeoDKruB559MlnrDpsuOMnwYy+QwAAOMgkYYA9pGZV39BXPqFcppV2uH8JQsuoesEnhGsLjmORO/04lbR1LtG5WKFVVlrZr77NwewO3wLeJUMDGBn+Unj/f8Aw2yv361afdUEYvxbfB+SuCjbN3jAjI5Y+2bx1i0uLDxlxWMucMMDOMjI8Zc8sjMrtV0Dab+IprIOoS7BJB2DT8Ju48+8fpKrSdS7UraslSFRaa2a++3cosVslH8WrkOwA8++Xbb95/hbJh069P6Y1G0WgorcM+K+4N8nZt3E9/Z2T0/TumDIptXNm0rybBDHC7jjC5II54lbqehrhc19PCZxet6IzMqsOCKmVmCnae0g4Mg9I9WLrr+IxrIsFQtC3X1pXw2J8WtOVvI/vbez0y2TLw6PpXWWVLurpNuAzN46oAqjJ5ntPI8pI0epW2tLF7HUOM9uCMyq6yaTU3BEpFTVc+Mj2NUbfModUbxfOOWezPbLagEIoZVU4AKqcqpx2KcDI/kJIvl51/xZ9a+2Jeyi1/xZ9a+2JezLqeG3R8qPT+VZ9a/6TfiaNP5Vn1r/AKTfNPDAiebXCgsxAAGSScADzk9006HX1XruotrsUHBKMGAPmyIG8QYnhLVJIBBK4yBjK57MjulV7iIgZEAQJHGuqNppFlfEA3GsMN4HnK9oEiN+JkRAhG3oH4hfW/ttLCV/QPxC+t/baWE57y7dHthERI9MGcz/AOW761vYSdPOZZcW3A/Obv5FVx/abdHlYpesb3hquEbuH45tGn2cfPLYVVu1ck5xz7JH6O6cYV4JFpWm27eQUYmqzYK3XuYdhPnBlt0j0Wmo2ljajLnD1Oa3APau5eeD5vQJCt6raZlVMWAKrV+LYymxXO51sI8vc3jHPfznR4wapfCA3WPUFhsppKtaunBZ2yXariBuQ8kcx555u60XisutFR2VcezLt2hyjJXgc8kEgn+cvF6HpG3AbxbFvHM+WE2A/d7p4boGjY67Ww6Go+MfJLFsZ9ZnjTnO/wC/RJNW2VdqOsNtaOLF062LaKslnKFSm4EBV3MfUJBPWu6ylrErrCrphqmO9w2WLjah2+dO0y+1nQVNp3Hiq+8WBkdkYEJtOCOwEdo755r6t6dUetVba1Q05BYnNYLHGfPl2nrRt7lks5/cIt/TN1dzKUpepENtjKX31qFyobI27mPdnzmQNJ1tttUBKay7Gnac2isC3PJiyA7lx3dsudN1dqrdmWzUkOWZqza5qYv2/Bk47+yetL0BTXjBubDK68Sx32bM7UXJ5KM9gkTV6s7LF87TnGcHOOzOO6XnRH/56vq09kSi1DYVvUf7S+6MXFNYPaEUH+SiZ9biLUqIic6ExiZiBz+gHiH/AJ2/5XkoSNoPIP8Azt/yvJInU4vBBMijpKk28EW1cUczXvXeP6c5kqEZEwZh7ApAYgFjtUHALHGcDznAM9GSDGYMYiVWRPJmHsCgsxAAGSScAAd5MKwIyCMHnnzj0RCNWv8Aiz619sS9lFr/AIs+tfbEvZl1PDbo+VHp/Kt+tf8ASbjNNHlW/Wv+k3TSMFZ1noSzSWLZxNhA3GsAuoBB3gEYOMZIwezsnHWay0pqHpeq7C0K2oqWyhTXvYNW5XdhgvMuoyN3Zyn0Mmell4j14fPdKt16KrXXcMJq3U023EHbs2A3MFZwGzg98ivZai22Kz8R10b2lrLUHC4Z3tuUEp42AWUZE+lRiFlkmHAaRbrhWr3X7eDqrFNdl2G2snDzYVU2Y5gEjmJYabWFrk49l4s4dLUKpcC0sh4m5AMNzxnI5cp2HfMxquXiuI6l6i99QeK4PiMbl4lzkWb8KWV1C1HGfFUyb0pcja2hatpZLSbKghSzLIQbzYe1AO7HPzzqcwTJd7Powy0CDAg8NvQPxC+t/baWEr+gfiF9b+20sJz3l2aPbCIiR6YMrukNAbMMhAccufksPM3vllEsuLkc6dFf82n8m5fmJjwO/wCbX786OYmne1Lmud8Dv+bT7wjwO/5tfvToojvajNc94Hf82v3xB0d/za/fE6GI7upMud8Dv+bX74mRo7/m0+//AKnQxHe1LmqXTdGOWBu24HMKuTk/SJ/tLlZ6mCJ41arq5RmIETyERMQKDQeR/Xb/AJXkmadOm0uh/ddj6w5LD+/5TfOqVxzZwSbK71qqYPnUm06ays8elmZma1blIwgyWGQeR7ZAo1erY2g2sr7WFoWy53RuKAjbGQLSQM8lJyJ9MgyX+V2zw4DU6UpcoZ7ytWtUVl7LDjfpuQLd4L4HPlzxIOk1Wrau3dawfhoLQllzslptUE4ZQtJwWG1SRifTsxmW3fhLc+P2ziLWaovVZbqBp11Ch3L2b0rakNgWeUF4hHYfRIfSWqu8JrFVrhNtPg5ssuV7Mud/waoRd2Lnf2DE+hRmM75myYcx1/S19K6JS9lZrsazYyA8kO1SHIJXPPlz5CXfROTRUSpU8NMqcEr4o5cpMJmAY07RZmRp1/xZ9a+2svMyk1i7gqD95lH8gcn+0uszLqeGvR8qWjyrfrX/AEm6aNP5dv1r/pN01jHG5MiQOnWuGnfwbHFxhMkDJz2AtyzjOM8sznNP0+2mS02WXPjhBU1S7LUaxiu5mRQGqyO0DPIxzFs2dnMGcknWu6xQKaKmfFzMWd1rxTtOUYrkghu3HIiR06121m2xxXw28GFSkt8G1ybvHIU+L3kjMk+T07ZdrAM5KvrVdYq8GistsvdtzuqfAFQdh25IbdyJEsdN03Za/wADUpRUre0s5DLxF3YQYwcAc8keiWpecLyZnN9Xus/hduzYoDIbEKlyVAbG23coAbmDyJ7fRNWs6wE9IUU121ive9dg3LudxUWC4zkAcvWT6IxTGXU5iIMmEw29A/EL639tpYSv6B+IX1v7bSwnPq5rs0e2EREj0REQEREBERAREQEREBERAREQERECDrdIWO9Dhhy59jDzH3yE1rL5VVo9Q3j/ANcy7ie5rsZaulNVyovCfoX/AIVnujwn6F/4Vnul7Evcqdn7UXhP0L/wrPdHhP0L/wAKz3S9iO5Ts/ai8K+hf+FZ7o8J+hf+FZ7pexHcp2ftRDU/w7/wrPdPS2s3k1Wn1qUH/tLuI7lOz9oOi0ZU73wW7OXYg8w8/rkzE9RM7ctZpkmIpdu22wHvIsHpDDn+c9yTrtIXwVOGHYe4/RPoMgm4pysVlPqJX7w7Zvo1Sxza9OLljWaZbkNdgyrdvPBHmII7CDK+vq9SFcNxXZ9uXexmsGw5Ta/7uCSRjvMntrq/lj8/dMeHV/LH5+6e3jKLR0HUnzjHbYhZ3Z2YW435JPPsE1jq3Rg44gyta8nYbeEMI6+ZwP3pP8Or+WPz90DXV/LH5+6MHq2wiU9BVJj4xiFsq3M7MzC0guWJ7ScDnMHq/TvVxxBtCJtDsFsFfJOIv7xA7MyYddX8sfn7pnw6v5Y/P3SXNeco3R/Q1dDFqzZzBUKzsy1gnJCKThRmZv6Hoe1LmqTiVkurAAHJG3JwOfI983nXV/LH5+6Y8Or+WPz90uFSszza2AT5uc0HWKfJJb/ipMkUaVnILjaoOQvex7i398eqTVcTL1NObsl9F1FaUB7cbj6C3Mj85LmBMzmu7rkxCIiFIiICIiAiIgIiICIiAiIgIiICIiAiIgIiICIiAiIgIiICIiAmJiIGQJnERAxiMTMQGIxEQGIxEQMTMRAREQEREBERAREQEREBERAREQEREBERAREQEREBERAREQEREBERAREQP//Z)"
      ]
    },
    {
      "cell_type": "code",
      "metadata": {
        "id": "9qxfpgNYraCh"
      },
      "source": [
        "!pip install spacy"
      ],
      "execution_count": null,
      "outputs": []
    },
    {
      "cell_type": "code",
      "metadata": {
        "colab": {
          "base_uri": "https://localhost:8080/"
        },
        "id": "SZu71N4Trh0P",
        "outputId": "b221dc5a-2006-43d8-d3ec-16cddede354f"
      },
      "source": [
        "!python -m spacy download en_core_web_lg"
      ],
      "execution_count": 3,
      "outputs": [
        {
          "output_type": "stream",
          "text": [
            "Collecting en_core_web_lg==2.2.5\n",
            "  Downloading https://github.com/explosion/spacy-models/releases/download/en_core_web_lg-2.2.5/en_core_web_lg-2.2.5.tar.gz (827.9 MB)\n",
            "\u001b[K     |████████████████████████████████| 827.9 MB 1.4 MB/s \n",
            "\u001b[?25hRequirement already satisfied: spacy>=2.2.2 in /usr/local/lib/python3.7/dist-packages (from en_core_web_lg==2.2.5) (2.2.4)\n",
            "Requirement already satisfied: wasabi<1.1.0,>=0.4.0 in /usr/local/lib/python3.7/dist-packages (from spacy>=2.2.2->en_core_web_lg==2.2.5) (0.8.2)\n",
            "Requirement already satisfied: numpy>=1.15.0 in /usr/local/lib/python3.7/dist-packages (from spacy>=2.2.2->en_core_web_lg==2.2.5) (1.19.5)\n",
            "Requirement already satisfied: setuptools in /usr/local/lib/python3.7/dist-packages (from spacy>=2.2.2->en_core_web_lg==2.2.5) (57.2.0)\n",
            "Requirement already satisfied: catalogue<1.1.0,>=0.0.7 in /usr/local/lib/python3.7/dist-packages (from spacy>=2.2.2->en_core_web_lg==2.2.5) (1.0.0)\n",
            "Requirement already satisfied: murmurhash<1.1.0,>=0.28.0 in /usr/local/lib/python3.7/dist-packages (from spacy>=2.2.2->en_core_web_lg==2.2.5) (1.0.5)\n",
            "Requirement already satisfied: preshed<3.1.0,>=3.0.2 in /usr/local/lib/python3.7/dist-packages (from spacy>=2.2.2->en_core_web_lg==2.2.5) (3.0.5)\n",
            "Requirement already satisfied: tqdm<5.0.0,>=4.38.0 in /usr/local/lib/python3.7/dist-packages (from spacy>=2.2.2->en_core_web_lg==2.2.5) (4.41.1)\n",
            "Requirement already satisfied: plac<1.2.0,>=0.9.6 in /usr/local/lib/python3.7/dist-packages (from spacy>=2.2.2->en_core_web_lg==2.2.5) (1.1.3)\n",
            "Requirement already satisfied: requests<3.0.0,>=2.13.0 in /usr/local/lib/python3.7/dist-packages (from spacy>=2.2.2->en_core_web_lg==2.2.5) (2.23.0)\n",
            "Requirement already satisfied: cymem<2.1.0,>=2.0.2 in /usr/local/lib/python3.7/dist-packages (from spacy>=2.2.2->en_core_web_lg==2.2.5) (2.0.5)\n",
            "Requirement already satisfied: srsly<1.1.0,>=1.0.2 in /usr/local/lib/python3.7/dist-packages (from spacy>=2.2.2->en_core_web_lg==2.2.5) (1.0.5)\n",
            "Requirement already satisfied: thinc==7.4.0 in /usr/local/lib/python3.7/dist-packages (from spacy>=2.2.2->en_core_web_lg==2.2.5) (7.4.0)\n",
            "Requirement already satisfied: blis<0.5.0,>=0.4.0 in /usr/local/lib/python3.7/dist-packages (from spacy>=2.2.2->en_core_web_lg==2.2.5) (0.4.1)\n",
            "Requirement already satisfied: importlib-metadata>=0.20 in /usr/local/lib/python3.7/dist-packages (from catalogue<1.1.0,>=0.0.7->spacy>=2.2.2->en_core_web_lg==2.2.5) (4.6.1)\n",
            "Requirement already satisfied: zipp>=0.5 in /usr/local/lib/python3.7/dist-packages (from importlib-metadata>=0.20->catalogue<1.1.0,>=0.0.7->spacy>=2.2.2->en_core_web_lg==2.2.5) (3.5.0)\n",
            "Requirement already satisfied: typing-extensions>=3.6.4 in /usr/local/lib/python3.7/dist-packages (from importlib-metadata>=0.20->catalogue<1.1.0,>=0.0.7->spacy>=2.2.2->en_core_web_lg==2.2.5) (3.7.4.3)\n",
            "Requirement already satisfied: idna<3,>=2.5 in /usr/local/lib/python3.7/dist-packages (from requests<3.0.0,>=2.13.0->spacy>=2.2.2->en_core_web_lg==2.2.5) (2.10)\n",
            "Requirement already satisfied: chardet<4,>=3.0.2 in /usr/local/lib/python3.7/dist-packages (from requests<3.0.0,>=2.13.0->spacy>=2.2.2->en_core_web_lg==2.2.5) (3.0.4)\n",
            "Requirement already satisfied: urllib3!=1.25.0,!=1.25.1,<1.26,>=1.21.1 in /usr/local/lib/python3.7/dist-packages (from requests<3.0.0,>=2.13.0->spacy>=2.2.2->en_core_web_lg==2.2.5) (1.24.3)\n",
            "Requirement already satisfied: certifi>=2017.4.17 in /usr/local/lib/python3.7/dist-packages (from requests<3.0.0,>=2.13.0->spacy>=2.2.2->en_core_web_lg==2.2.5) (2021.5.30)\n",
            "Building wheels for collected packages: en-core-web-lg\n",
            "  Building wheel for en-core-web-lg (setup.py) ... \u001b[?25l\u001b[?25hdone\n",
            "  Created wheel for en-core-web-lg: filename=en_core_web_lg-2.2.5-py3-none-any.whl size=829180943 sha256=19819e701c063ca5b0e1bc630b1194d43f1e00bd5c9a36fc3264b4ef0b1dc586\n",
            "  Stored in directory: /tmp/pip-ephem-wheel-cache-gygy4l5d/wheels/11/95/ba/2c36cc368c0bd339b44a791c2c1881a1fb714b78c29a4cb8f5\n",
            "Successfully built en-core-web-lg\n",
            "Installing collected packages: en-core-web-lg\n",
            "Successfully installed en-core-web-lg-2.2.5\n",
            "\u001b[38;5;2m✔ Download and installation successful\u001b[0m\n",
            "You can now load the model via spacy.load('en_core_web_lg')\n"
          ],
          "name": "stdout"
        }
      ]
    },
    {
      "cell_type": "code",
      "metadata": {
        "id": "q__5c0Ear8YU"
      },
      "source": [
        "# Text Preprocessing Pkg\n",
        "from spacy.lang.en.stop_words import STOP_WORDS\n",
        "from string import punctuation"
      ],
      "execution_count": 8,
      "outputs": []
    },
    {
      "cell_type": "code",
      "metadata": {
        "id": "DqiGlEZwsbzJ"
      },
      "source": [
        "# Build a List of Stopwords\n",
        "stopwords = list(STOP_WORDS)"
      ],
      "execution_count": 9,
      "outputs": []
    },
    {
      "cell_type": "code",
      "metadata": {
        "id": "Z9LLMfFGtKzQ"
      },
      "source": [
        "text =\"\"\"Machine learning (ML) is the scientific study of algorithms and statistical models that computer systems use to progressively improve their performance on a specific task. Machine learning algorithms build a mathematical model of sample data, known as \"training data\", in order to make predictions or decisions without being explicitly programmed to perform the task. Machine learning algorithms are used in the applications of email filtering, detection of network intruders, and computer vision, where it is infeasible to develop an algorithm of specific instructions for performing the task. Machine learning is closely related to computational statistics, which focuses on making predictions using computers. The study of mathematical optimization delivers methods, theory and application domains to the field of machine learning. Data mining is a field of study within machine learning, and focuses on exploratory data analysis through unsupervised learning.In its application across business problems, machine learning is also referred to as predictive analytics.\"\"\""
      ],
      "execution_count": 14,
      "outputs": []
    },
    {
      "cell_type": "code",
      "metadata": {
        "id": "abXFlyKStL_7"
      },
      "source": [
        "#load spacy\n",
        "nlp = spacy.load('en')"
      ],
      "execution_count": 11,
      "outputs": []
    },
    {
      "cell_type": "code",
      "metadata": {
        "id": "r1tI8CxTtRN5"
      },
      "source": [
        "# Build an NLP Object\n",
        "docx = nlp(text)"
      ],
      "execution_count": 16,
      "outputs": []
    },
    {
      "cell_type": "code",
      "metadata": {
        "id": "7EIwz3VXtaog"
      },
      "source": [
        "# Tokenization of Text\n",
        "mytokens = [token.text for token in docx]"
      ],
      "execution_count": 17,
      "outputs": []
    },
    {
      "cell_type": "markdown",
      "metadata": {
        "id": "JJDwYpLithD2"
      },
      "source": [
        "## WORD FREQUENCY TABLE"
      ]
    },
    {
      "cell_type": "code",
      "metadata": {
        "id": "mUjx7qaRtjKs"
      },
      "source": [
        "word_frequencies = {}\n",
        "for word in docx:\n",
        "    if word.text not in stopwords:\n",
        "            if word.text not in word_frequencies.keys():\n",
        "                word_frequencies[word.text] = 1\n",
        "            else:\n",
        "                word_frequencies[word.text] += 1"
      ],
      "execution_count": 18,
      "outputs": []
    },
    {
      "cell_type": "code",
      "metadata": {
        "colab": {
          "base_uri": "https://localhost:8080/"
        },
        "id": "67bmvoHhtqS1",
        "outputId": "5a4b13ce-fb5c-4fd9-8cf3-cfe1165397a3"
      },
      "source": [
        "word_frequencies"
      ],
      "execution_count": 19,
      "outputs": [
        {
          "output_type": "execute_result",
          "data": {
            "text/plain": [
              "{'\"': 2,\n",
              " '(': 1,\n",
              " ')': 1,\n",
              " ',': 9,\n",
              " '.': 7,\n",
              " 'Data': 1,\n",
              " 'In': 1,\n",
              " 'ML': 1,\n",
              " 'Machine': 4,\n",
              " 'The': 1,\n",
              " 'algorithm': 1,\n",
              " 'algorithms': 3,\n",
              " 'analysis': 1,\n",
              " 'analytics': 1,\n",
              " 'application': 2,\n",
              " 'applications': 1,\n",
              " 'build': 1,\n",
              " 'business': 1,\n",
              " 'closely': 1,\n",
              " 'computational': 1,\n",
              " 'computer': 2,\n",
              " 'computers': 1,\n",
              " 'data': 3,\n",
              " 'decisions': 1,\n",
              " 'delivers': 1,\n",
              " 'detection': 1,\n",
              " 'develop': 1,\n",
              " 'domains': 1,\n",
              " 'email': 1,\n",
              " 'explicitly': 1,\n",
              " 'exploratory': 1,\n",
              " 'field': 2,\n",
              " 'filtering': 1,\n",
              " 'focuses': 2,\n",
              " 'improve': 1,\n",
              " 'infeasible': 1,\n",
              " 'instructions': 1,\n",
              " 'intruders': 1,\n",
              " 'known': 1,\n",
              " 'learning': 8,\n",
              " 'machine': 3,\n",
              " 'making': 1,\n",
              " 'mathematical': 2,\n",
              " 'methods': 1,\n",
              " 'mining': 1,\n",
              " 'model': 1,\n",
              " 'models': 1,\n",
              " 'network': 1,\n",
              " 'optimization': 1,\n",
              " 'order': 1,\n",
              " 'perform': 1,\n",
              " 'performance': 1,\n",
              " 'performing': 1,\n",
              " 'predictions': 2,\n",
              " 'predictive': 1,\n",
              " 'problems': 1,\n",
              " 'programmed': 1,\n",
              " 'progressively': 1,\n",
              " 'referred': 1,\n",
              " 'related': 1,\n",
              " 'sample': 1,\n",
              " 'scientific': 1,\n",
              " 'specific': 2,\n",
              " 'statistical': 1,\n",
              " 'statistics': 1,\n",
              " 'study': 3,\n",
              " 'systems': 1,\n",
              " 'task': 3,\n",
              " 'theory': 1,\n",
              " 'training': 1,\n",
              " 'unsupervised': 1,\n",
              " 'use': 1,\n",
              " 'vision': 1}"
            ]
          },
          "metadata": {
            "tags": []
          },
          "execution_count": 19
        }
      ]
    },
    {
      "cell_type": "markdown",
      "metadata": {
        "id": "feQppyY6t3IV"
      },
      "source": [
        "## Maximum Word Frequency"
      ]
    },
    {
      "cell_type": "code",
      "metadata": {
        "id": "wLdLbMWat5jv"
      },
      "source": [
        "# Maximum Word Frequency\n",
        "maximum_frequency = max(word_frequencies.values())"
      ],
      "execution_count": 22,
      "outputs": []
    },
    {
      "cell_type": "code",
      "metadata": {
        "id": "rFYdrg5st9vJ"
      },
      "source": [
        "for word in word_frequencies.keys():  \n",
        "        word_frequencies[word] = (word_frequencies[word]/maximum_frequency)"
      ],
      "execution_count": 23,
      "outputs": []
    },
    {
      "cell_type": "code",
      "metadata": {
        "colab": {
          "base_uri": "https://localhost:8080/"
        },
        "id": "Z3-iVkm4t-ix",
        "outputId": "99e4ea0e-387e-447e-dc43-44482d1826ff"
      },
      "source": [
        "# Frequency Table\n",
        "word_frequencies"
      ],
      "execution_count": 24,
      "outputs": [
        {
          "output_type": "execute_result",
          "data": {
            "text/plain": [
              "{'\"': 0.2222222222222222,\n",
              " '(': 0.1111111111111111,\n",
              " ')': 0.1111111111111111,\n",
              " ',': 1.0,\n",
              " '.': 0.7777777777777778,\n",
              " 'Data': 0.1111111111111111,\n",
              " 'In': 0.1111111111111111,\n",
              " 'ML': 0.1111111111111111,\n",
              " 'Machine': 0.4444444444444444,\n",
              " 'The': 0.1111111111111111,\n",
              " 'algorithm': 0.1111111111111111,\n",
              " 'algorithms': 0.3333333333333333,\n",
              " 'analysis': 0.1111111111111111,\n",
              " 'analytics': 0.1111111111111111,\n",
              " 'application': 0.2222222222222222,\n",
              " 'applications': 0.1111111111111111,\n",
              " 'build': 0.1111111111111111,\n",
              " 'business': 0.1111111111111111,\n",
              " 'closely': 0.1111111111111111,\n",
              " 'computational': 0.1111111111111111,\n",
              " 'computer': 0.2222222222222222,\n",
              " 'computers': 0.1111111111111111,\n",
              " 'data': 0.3333333333333333,\n",
              " 'decisions': 0.1111111111111111,\n",
              " 'delivers': 0.1111111111111111,\n",
              " 'detection': 0.1111111111111111,\n",
              " 'develop': 0.1111111111111111,\n",
              " 'domains': 0.1111111111111111,\n",
              " 'email': 0.1111111111111111,\n",
              " 'explicitly': 0.1111111111111111,\n",
              " 'exploratory': 0.1111111111111111,\n",
              " 'field': 0.2222222222222222,\n",
              " 'filtering': 0.1111111111111111,\n",
              " 'focuses': 0.2222222222222222,\n",
              " 'improve': 0.1111111111111111,\n",
              " 'infeasible': 0.1111111111111111,\n",
              " 'instructions': 0.1111111111111111,\n",
              " 'intruders': 0.1111111111111111,\n",
              " 'known': 0.1111111111111111,\n",
              " 'learning': 0.8888888888888888,\n",
              " 'machine': 0.3333333333333333,\n",
              " 'making': 0.1111111111111111,\n",
              " 'mathematical': 0.2222222222222222,\n",
              " 'methods': 0.1111111111111111,\n",
              " 'mining': 0.1111111111111111,\n",
              " 'model': 0.1111111111111111,\n",
              " 'models': 0.1111111111111111,\n",
              " 'network': 0.1111111111111111,\n",
              " 'optimization': 0.1111111111111111,\n",
              " 'order': 0.1111111111111111,\n",
              " 'perform': 0.1111111111111111,\n",
              " 'performance': 0.1111111111111111,\n",
              " 'performing': 0.1111111111111111,\n",
              " 'predictions': 0.2222222222222222,\n",
              " 'predictive': 0.1111111111111111,\n",
              " 'problems': 0.1111111111111111,\n",
              " 'programmed': 0.1111111111111111,\n",
              " 'progressively': 0.1111111111111111,\n",
              " 'referred': 0.1111111111111111,\n",
              " 'related': 0.1111111111111111,\n",
              " 'sample': 0.1111111111111111,\n",
              " 'scientific': 0.1111111111111111,\n",
              " 'specific': 0.2222222222222222,\n",
              " 'statistical': 0.1111111111111111,\n",
              " 'statistics': 0.1111111111111111,\n",
              " 'study': 0.3333333333333333,\n",
              " 'systems': 0.1111111111111111,\n",
              " 'task': 0.3333333333333333,\n",
              " 'theory': 0.1111111111111111,\n",
              " 'training': 0.1111111111111111,\n",
              " 'unsupervised': 0.1111111111111111,\n",
              " 'use': 0.1111111111111111,\n",
              " 'vision': 0.1111111111111111}"
            ]
          },
          "metadata": {
            "tags": []
          },
          "execution_count": 24
        }
      ]
    },
    {
      "cell_type": "code",
      "metadata": {
        "id": "Aw1FVBxAuEko"
      },
      "source": [
        "# Sentence Tokens\n",
        "sentence_list = [ sentence for sentence in docx.sents ]"
      ],
      "execution_count": 25,
      "outputs": []
    },
    {
      "cell_type": "code",
      "metadata": {
        "id": "GPbja0gPuOTr"
      },
      "source": [
        "# Sentence Score via comparrng each word with sentence\n",
        "sentence_scores = {}  \n",
        "for sent in sentence_list:  \n",
        "        for word in sent:\n",
        "            if word.text.lower() in word_frequencies.keys():\n",
        "                if len(sent.text.split(' ')) < 30:\n",
        "                    if sent not in sentence_scores.keys():\n",
        "                        sentence_scores[sent] = word_frequencies[word.text.lower()]\n",
        "                    else:\n",
        "                        sentence_scores[sent] += word_frequencies[word.text.lower()]"
      ],
      "execution_count": 26,
      "outputs": []
    },
    {
      "cell_type": "code",
      "metadata": {
        "colab": {
          "base_uri": "https://localhost:8080/"
        },
        "id": "yTAVe0XVuU-E",
        "outputId": "f9e617a8-f00e-47d0-9c33-23bd5dce3fe0"
      },
      "source": [
        "# Sentence Score Table\n",
        "sentence_scores"
      ],
      "execution_count": 27,
      "outputs": [
        {
          "output_type": "execute_result",
          "data": {
            "text/plain": [
              "{Machine learning (ML) is the scientific study of algorithms and statistical models that computer systems use to progressively improve their performance on a specific task.: 4.555555555555556,\n",
              " Machine learning algorithms build a mathematical model of sample data, known as \"training data\", in order to make predictions or decisions without being explicitly programmed to perform the task.: 7.333333333333331,\n",
              " Machine learning is closely related to computational statistics, which focuses on making predictions using computers.: 4.111111111111112,\n",
              " The study of mathematical optimization delivers methods, theory and application domains to the field of machine learning.: 4.555555555555556,\n",
              " Data mining is a field of study within machine learning, and focuses on exploratory data analysis through unsupervised learning.: 5.777777777777778,\n",
              " In its application across business problems, machine learning is also referred to as predictive analytics.: 3.7777777777777777}"
            ]
          },
          "metadata": {
            "tags": []
          },
          "execution_count": 27
        }
      ]
    },
    {
      "cell_type": "code",
      "metadata": {
        "id": "zDchh2waucAD"
      },
      "source": [
        "# Import Heapq \n",
        "from heapq import nlargest"
      ],
      "execution_count": 28,
      "outputs": []
    },
    {
      "cell_type": "code",
      "metadata": {
        "id": "2Rs7pO_vuf_2"
      },
      "source": [
        "summarized_sentences = nlargest(7, sentence_scores, key=sentence_scores.get)"
      ],
      "execution_count": 29,
      "outputs": []
    },
    {
      "cell_type": "code",
      "metadata": {
        "colab": {
          "base_uri": "https://localhost:8080/"
        },
        "id": "0cbUapN4ujWT",
        "outputId": "579f6062-b99c-4fd4-d91f-708cd89fe4b4"
      },
      "source": [
        "summarized_sentences"
      ],
      "execution_count": 30,
      "outputs": [
        {
          "output_type": "execute_result",
          "data": {
            "text/plain": [
              "[Machine learning algorithms build a mathematical model of sample data, known as \"training data\", in order to make predictions or decisions without being explicitly programmed to perform the task.,\n",
              " Data mining is a field of study within machine learning, and focuses on exploratory data analysis through unsupervised learning.,\n",
              " Machine learning (ML) is the scientific study of algorithms and statistical models that computer systems use to progressively improve their performance on a specific task.,\n",
              " The study of mathematical optimization delivers methods, theory and application domains to the field of machine learning.,\n",
              " Machine learning is closely related to computational statistics, which focuses on making predictions using computers.,\n",
              " In its application across business problems, machine learning is also referred to as predictive analytics.]"
            ]
          },
          "metadata": {
            "tags": []
          },
          "execution_count": 30
        }
      ]
    },
    {
      "cell_type": "markdown",
      "metadata": {
        "id": "wC5poIbau2m9"
      },
      "source": [
        "### ALL Above code in single function"
      ]
    },
    {
      "cell_type": "code",
      "metadata": {
        "id": "CuzBNh44v7oT"
      },
      "source": [
        "from heapq import nlargest"
      ],
      "execution_count": 31,
      "outputs": []
    },
    {
      "cell_type": "code",
      "metadata": {
        "id": "1XQ0XX52u2JQ"
      },
      "source": [
        "def text_summerization(text,select_lenth):\n",
        "  nlp = spacy.load('en')\n",
        "  # Build an NLP Object\n",
        "  docx = nlp(text)\n",
        "\n",
        "  # Tokenization of Text\n",
        "  mytokens = [token.text for token in docx]\n",
        "\n",
        "\n",
        "  # Build Word Frequency\n",
        "  # word.text is tokenization in spacy\n",
        "  word_frequencies = {}\n",
        "  for word in docx:\n",
        "    if word.text not in stopwords:\n",
        "            if word.text not in word_frequencies.keys():\n",
        "                word_frequencies[word.text] = 1\n",
        "            else:\n",
        "                word_frequencies[word.text] += 1\n",
        "  # Maximum Word Frequency\n",
        "  maximum_frequency = max(word_frequencies.values())\n",
        "  for word in word_frequencies.keys():  \n",
        "        word_frequencies[word] = (word_frequencies[word]/maximum_frequency)\n",
        "  # Sentence Tokens\n",
        "  sentence_list = [ sentence for sentence in docx.sents ]\n",
        "\n",
        "  # Sentence Score via comparrng each word with sentence\n",
        "  sentence_scores = {}  \n",
        "  for sent in sentence_list:  \n",
        "        for word in sent:\n",
        "            if word.text.lower() in word_frequencies.keys():\n",
        "                if len(sent.text.split(' ')) < 30:\n",
        "                    if sent not in sentence_scores.keys():\n",
        "                        sentence_scores[sent] = word_frequencies[word.text.lower()]\n",
        "                    else:\n",
        "                        sentence_scores[sent] += word_frequencies[word.text.lower()]\n",
        "  summarized_sentences = nlargest(select_lenth, sentence_scores, key=sentence_scores.get)\n",
        "  print(\"=================================================================================\")\n",
        "  print(\"                             summarized sentences                                \")\n",
        "  print(\"=================================================================================\")\n",
        "  print(summarized_sentences)\n"
      ],
      "execution_count": 35,
      "outputs": []
    },
    {
      "cell_type": "code",
      "metadata": {
        "colab": {
          "base_uri": "https://localhost:8080/"
        },
        "id": "Uf345WbHwPLf",
        "outputId": "6649f76d-04a8-42aa-d283-eb08f8e72983"
      },
      "source": [
        "text=input(\"enter the text\")\n",
        "select_lenth=int(input(\"enter number sentences you want : \"))\n",
        "text_summerization(text,select_lenth)"
      ],
      "execution_count": 36,
      "outputs": [
        {
          "output_type": "stream",
          "text": [
            "enter the textTo be sure, as the methodology of the investigation explains, the presence of a number on the list does not indicate the individual’s phone was hacked — just that it was of interest. Amnesty International subsequently forensically investigated 67 of these phones, and found 23 hacked and 14 showing signs of attempted penetration.  While NSO Group, the Israeli firm that makes Pegasus, has maintained that only governments are its clients, India’s IT minister Ashwini Vaishnaw has called the investigation an “attempt to malign Indian democracy and its well-established institutions”.  The fact that Chetia was still in touch with several leaders of the anti-talks faction of the outfit, ULFA-Independent, of which Paresh Baruah is the commander-in-chief and his stance on several issues including the contentious Citizenship Amendment Act (CAA), which he opposed and even threatened in 2018 to walk out of talks if it was not scrapped, were seen as a possible reasons for his name to figure on the list.\n",
            "enter number sentences you want4\n",
            "=================================================================================\n",
            "                             summarized sentences                                \n",
            "=================================================================================\n",
            "[While NSO Group, the Israeli firm that makes Pegasus, has maintained that only governments are its clients, India’s, Amnesty International subsequently forensically investigated 67 of these phones, and found 23 hacked and 14 showing signs of attempted penetration.  , IT minister Ashwini Vaishnaw has called the investigation an “attempt to malign Indian democracy and its well-established institutions”.  ]\n"
          ],
          "name": "stdout"
        }
      ]
    }
  ]
}