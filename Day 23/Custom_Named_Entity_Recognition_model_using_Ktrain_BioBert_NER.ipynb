{
  "nbformat": 4,
  "nbformat_minor": 0,
  "metadata": {
    "colab": {
      "name": "Custom Named Entity Recognition model using Ktrain BioBert_NER.ipynb",
      "provenance": []
    },
    "kernelspec": {
      "name": "python3",
      "display_name": "Python 3"
    },
    "language_info": {
      "name": "python"
    },
    "accelerator": "GPU"
  },
  "cells": [
    {
      "cell_type": "markdown",
      "metadata": {
        "id": "gysrC3qYGHNA"
      },
      "source": [
        "# Custom Named Entity Recognition model using **Ktrain BioBert_NER**"
      ]
    },
    {
      "cell_type": "markdown",
      "metadata": {
        "id": "G8JhAqbPGRhU"
      },
      "source": [
        "![2.jpg](data:image/jpeg;base64,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)"
      ]
    },
    {
      "cell_type": "markdown",
      "metadata": {
        "id": "O_QJRC9JDFdi"
      },
      "source": [
        "##Load and Preprocess Data"
      ]
    },
    {
      "cell_type": "code",
      "metadata": {
        "id": "GS6uYbNu2zBq"
      },
      "source": [
        "import pandas as pd"
      ],
      "execution_count": 33,
      "outputs": []
    },
    {
      "cell_type": "code",
      "metadata": {
        "id": "V8ktPCOf5kYx"
      },
      "source": [
        "train_df= pd.read_csv('/content/train.tsv', delimiter = '\\t', quoting = 3,header=None)\n",
        "train_df.columns=[\"Word\",\"Tag\"]\n"
      ],
      "execution_count": 34,
      "outputs": []
    },
    {
      "cell_type": "code",
      "metadata": {
        "id": "pifKt7Br6uCi"
      },
      "source": [
        "test_df= pd.read_csv('/content/test.tsv', delimiter = '\\t', quoting = 3,header=None)\n",
        "test_df.columns=[\"Word\",\"Tag\"]"
      ],
      "execution_count": 35,
      "outputs": []
    },
    {
      "cell_type": "code",
      "metadata": {
        "colab": {
          "base_uri": "https://localhost:8080/",
          "height": 203
        },
        "id": "z33Za9Qd5yn4",
        "outputId": "9e6c99f7-0b4f-42c3-a6e9-684d64d63bd8"
      },
      "source": [
        "train_df.sample(n=5)"
      ],
      "execution_count": 36,
      "outputs": [
        {
          "output_type": "execute_result",
          "data": {
            "text/html": [
              "<div>\n",
              "<style scoped>\n",
              "    .dataframe tbody tr th:only-of-type {\n",
              "        vertical-align: middle;\n",
              "    }\n",
              "\n",
              "    .dataframe tbody tr th {\n",
              "        vertical-align: top;\n",
              "    }\n",
              "\n",
              "    .dataframe thead th {\n",
              "        text-align: right;\n",
              "    }\n",
              "</style>\n",
              "<table border=\"1\" class=\"dataframe\">\n",
              "  <thead>\n",
              "    <tr style=\"text-align: right;\">\n",
              "      <th></th>\n",
              "      <th>Word</th>\n",
              "      <th>Tag</th>\n",
              "    </tr>\n",
              "  </thead>\n",
              "  <tbody>\n",
              "    <tr>\n",
              "      <th>17471</th>\n",
              "      <td>cocaine</td>\n",
              "      <td>O</td>\n",
              "    </tr>\n",
              "    <tr>\n",
              "      <th>41444</th>\n",
              "      <td>SBP</td>\n",
              "      <td>O</td>\n",
              "    </tr>\n",
              "    <tr>\n",
              "      <th>11193</th>\n",
              "      <td>of</td>\n",
              "      <td>O</td>\n",
              "    </tr>\n",
              "    <tr>\n",
              "      <th>1584</th>\n",
              "      <td>6</td>\n",
              "      <td>O</td>\n",
              "    </tr>\n",
              "    <tr>\n",
              "      <th>71946</th>\n",
              "      <td>e</td>\n",
              "      <td>O</td>\n",
              "    </tr>\n",
              "  </tbody>\n",
              "</table>\n",
              "</div>"
            ],
            "text/plain": [
              "          Word Tag\n",
              "17471  cocaine   O\n",
              "41444      SBP   O\n",
              "11193       of   O\n",
              "1584         6   O\n",
              "71946        e   O"
            ]
          },
          "metadata": {
            "tags": []
          },
          "execution_count": 36
        }
      ]
    },
    {
      "cell_type": "code",
      "metadata": {
        "id": "jW7rK2Id6cae"
      },
      "source": [
        "tags2vals = list(set(train_df[\"Tag\"].values))\n",
        "tag2idx = {t: i for i, t in enumerate(tags2vals)}"
      ],
      "execution_count": 37,
      "outputs": []
    },
    {
      "cell_type": "code",
      "metadata": {
        "colab": {
          "base_uri": "https://localhost:8080/"
        },
        "id": "P73En0269vrj",
        "outputId": "b95ead3b-e5e0-4486-a1d0-d15230073c0f"
      },
      "source": [
        "tags2vals"
      ],
      "execution_count": 38,
      "outputs": [
        {
          "output_type": "execute_result",
          "data": {
            "text/plain": [
              "['O', 'I', 'B']"
            ]
          },
          "metadata": {
            "tags": []
          },
          "execution_count": 38
        }
      ]
    },
    {
      "cell_type": "code",
      "metadata": {
        "id": "iFoQpFMD_djk"
      },
      "source": [
        "TRAIN_DATA = 'train_dev.tsv'\n",
        "VALIDATION_DATA = 'test.tsv'"
      ],
      "execution_count": 39,
      "outputs": []
    },
    {
      "cell_type": "markdown",
      "metadata": {
        "id": "8fFhtU3zDZGG"
      },
      "source": [
        "### intall ktrain"
      ]
    },
    {
      "cell_type": "code",
      "metadata": {
        "colab": {
          "base_uri": "https://localhost:8080/"
        },
        "id": "wEHZBfRz_qYN",
        "outputId": "d8e178c8-c6ac-4db2-f90e-8a4233a22194"
      },
      "source": [
        "!pip install ktrain"
      ],
      "execution_count": 40,
      "outputs": [
        {
          "output_type": "stream",
          "text": [
            "Requirement already satisfied: ktrain in /usr/local/lib/python3.7/dist-packages (0.26.4)\n",
            "Requirement already satisfied: pandas>=1.0.1 in /usr/local/lib/python3.7/dist-packages (from ktrain) (1.1.5)\n",
            "Requirement already satisfied: matplotlib>=3.0.0 in /usr/local/lib/python3.7/dist-packages (from ktrain) (3.2.2)\n",
            "Requirement already satisfied: networkx>=2.3 in /usr/local/lib/python3.7/dist-packages (from ktrain) (2.5.1)\n",
            "Requirement already satisfied: keras-bert>=0.86.0 in /usr/local/lib/python3.7/dist-packages (from ktrain) (0.88.0)\n",
            "Requirement already satisfied: syntok in /usr/local/lib/python3.7/dist-packages (from ktrain) (1.3.1)\n",
            "Requirement already satisfied: fastprogress>=0.1.21 in /usr/local/lib/python3.7/dist-packages (from ktrain) (1.0.0)\n",
            "Requirement already satisfied: scikit-learn==0.23.2 in /usr/local/lib/python3.7/dist-packages (from ktrain) (0.23.2)\n",
            "Requirement already satisfied: requests in /usr/local/lib/python3.7/dist-packages (from ktrain) (2.23.0)\n",
            "Requirement already satisfied: cchardet in /usr/local/lib/python3.7/dist-packages (from ktrain) (2.1.7)\n",
            "Requirement already satisfied: langdetect in /usr/local/lib/python3.7/dist-packages (from ktrain) (1.0.9)\n",
            "Requirement already satisfied: ipython in /usr/local/lib/python3.7/dist-packages (from ktrain) (5.5.0)\n",
            "Requirement already satisfied: seqeval==0.0.19 in /usr/local/lib/python3.7/dist-packages (from ktrain) (0.0.19)\n",
            "Requirement already satisfied: transformers<=4.3.3,>=4.0.0 in /usr/local/lib/python3.7/dist-packages (from ktrain) (4.3.3)\n",
            "Requirement already satisfied: whoosh in /usr/local/lib/python3.7/dist-packages (from ktrain) (2.7.4)\n",
            "Requirement already satisfied: joblib in /usr/local/lib/python3.7/dist-packages (from ktrain) (1.0.1)\n",
            "Requirement already satisfied: jieba in /usr/local/lib/python3.7/dist-packages (from ktrain) (0.42.1)\n",
            "Requirement already satisfied: packaging in /usr/local/lib/python3.7/dist-packages (from ktrain) (21.0)\n",
            "Requirement already satisfied: sentencepiece in /usr/local/lib/python3.7/dist-packages (from ktrain) (0.1.96)\n",
            "Requirement already satisfied: pytz>=2017.2 in /usr/local/lib/python3.7/dist-packages (from pandas>=1.0.1->ktrain) (2018.9)\n",
            "Requirement already satisfied: python-dateutil>=2.7.3 in /usr/local/lib/python3.7/dist-packages (from pandas>=1.0.1->ktrain) (2.8.1)\n",
            "Requirement already satisfied: numpy>=1.15.4 in /usr/local/lib/python3.7/dist-packages (from pandas>=1.0.1->ktrain) (1.19.5)\n",
            "Requirement already satisfied: pyparsing!=2.0.4,!=2.1.2,!=2.1.6,>=2.0.1 in /usr/local/lib/python3.7/dist-packages (from matplotlib>=3.0.0->ktrain) (2.4.7)\n",
            "Requirement already satisfied: cycler>=0.10 in /usr/local/lib/python3.7/dist-packages (from matplotlib>=3.0.0->ktrain) (0.10.0)\n",
            "Requirement already satisfied: kiwisolver>=1.0.1 in /usr/local/lib/python3.7/dist-packages (from matplotlib>=3.0.0->ktrain) (1.3.1)\n",
            "Requirement already satisfied: decorator<5,>=4.3 in /usr/local/lib/python3.7/dist-packages (from networkx>=2.3->ktrain) (4.4.2)\n",
            "Requirement already satisfied: Keras>=2.4.3 in /usr/local/lib/python3.7/dist-packages (from keras-bert>=0.86.0->ktrain) (2.4.3)\n",
            "Requirement already satisfied: keras-transformer>=0.39.0 in /usr/local/lib/python3.7/dist-packages (from keras-bert>=0.86.0->ktrain) (0.39.0)\n",
            "Requirement already satisfied: regex in /usr/local/lib/python3.7/dist-packages (from syntok->ktrain) (2019.12.20)\n",
            "Requirement already satisfied: threadpoolctl>=2.0.0 in /usr/local/lib/python3.7/dist-packages (from scikit-learn==0.23.2->ktrain) (2.2.0)\n",
            "Requirement already satisfied: scipy>=0.19.1 in /usr/local/lib/python3.7/dist-packages (from scikit-learn==0.23.2->ktrain) (1.4.1)\n",
            "Requirement already satisfied: chardet<4,>=3.0.2 in /usr/local/lib/python3.7/dist-packages (from requests->ktrain) (3.0.4)\n",
            "Requirement already satisfied: urllib3!=1.25.0,!=1.25.1,<1.26,>=1.21.1 in /usr/local/lib/python3.7/dist-packages (from requests->ktrain) (1.24.3)\n",
            "Requirement already satisfied: certifi>=2017.4.17 in /usr/local/lib/python3.7/dist-packages (from requests->ktrain) (2021.5.30)\n",
            "Requirement already satisfied: idna<3,>=2.5 in /usr/local/lib/python3.7/dist-packages (from requests->ktrain) (2.10)\n",
            "Requirement already satisfied: six in /usr/local/lib/python3.7/dist-packages (from langdetect->ktrain) (1.15.0)\n",
            "Requirement already satisfied: simplegeneric>0.8 in /usr/local/lib/python3.7/dist-packages (from ipython->ktrain) (0.8.1)\n",
            "Requirement already satisfied: setuptools>=18.5 in /usr/local/lib/python3.7/dist-packages (from ipython->ktrain) (57.0.0)\n",
            "Requirement already satisfied: prompt-toolkit<2.0.0,>=1.0.4 in /usr/local/lib/python3.7/dist-packages (from ipython->ktrain) (1.0.18)\n",
            "Requirement already satisfied: pexpect; sys_platform != \"win32\" in /usr/local/lib/python3.7/dist-packages (from ipython->ktrain) (4.8.0)\n",
            "Requirement already satisfied: pickleshare in /usr/local/lib/python3.7/dist-packages (from ipython->ktrain) (0.7.5)\n",
            "Requirement already satisfied: pygments in /usr/local/lib/python3.7/dist-packages (from ipython->ktrain) (2.6.1)\n",
            "Requirement already satisfied: traitlets>=4.2 in /usr/local/lib/python3.7/dist-packages (from ipython->ktrain) (5.0.5)\n",
            "Requirement already satisfied: sacremoses in /usr/local/lib/python3.7/dist-packages (from transformers<=4.3.3,>=4.0.0->ktrain) (0.0.45)\n",
            "Requirement already satisfied: tqdm>=4.27 in /usr/local/lib/python3.7/dist-packages (from transformers<=4.3.3,>=4.0.0->ktrain) (4.41.1)\n",
            "Requirement already satisfied: importlib-metadata; python_version < \"3.8\" in /usr/local/lib/python3.7/dist-packages (from transformers<=4.3.3,>=4.0.0->ktrain) (4.6.1)\n",
            "Requirement already satisfied: filelock in /usr/local/lib/python3.7/dist-packages (from transformers<=4.3.3,>=4.0.0->ktrain) (3.0.12)\n",
            "Requirement already satisfied: tokenizers<0.11,>=0.10.1 in /usr/local/lib/python3.7/dist-packages (from transformers<=4.3.3,>=4.0.0->ktrain) (0.10.3)\n",
            "Requirement already satisfied: pyyaml in /usr/local/lib/python3.7/dist-packages (from Keras>=2.4.3->keras-bert>=0.86.0->ktrain) (3.13)\n",
            "Requirement already satisfied: h5py in /usr/local/lib/python3.7/dist-packages (from Keras>=2.4.3->keras-bert>=0.86.0->ktrain) (3.1.0)\n",
            "Requirement already satisfied: keras-multi-head>=0.28.0 in /usr/local/lib/python3.7/dist-packages (from keras-transformer>=0.39.0->keras-bert>=0.86.0->ktrain) (0.28.0)\n",
            "Requirement already satisfied: keras-position-wise-feed-forward>=0.7.0 in /usr/local/lib/python3.7/dist-packages (from keras-transformer>=0.39.0->keras-bert>=0.86.0->ktrain) (0.7.0)\n",
            "Requirement already satisfied: keras-embed-sim>=0.9.0 in /usr/local/lib/python3.7/dist-packages (from keras-transformer>=0.39.0->keras-bert>=0.86.0->ktrain) (0.9.0)\n",
            "Requirement already satisfied: keras-layer-normalization>=0.15.0 in /usr/local/lib/python3.7/dist-packages (from keras-transformer>=0.39.0->keras-bert>=0.86.0->ktrain) (0.15.0)\n",
            "Requirement already satisfied: keras-pos-embd>=0.12.0 in /usr/local/lib/python3.7/dist-packages (from keras-transformer>=0.39.0->keras-bert>=0.86.0->ktrain) (0.12.0)\n",
            "Requirement already satisfied: wcwidth in /usr/local/lib/python3.7/dist-packages (from prompt-toolkit<2.0.0,>=1.0.4->ipython->ktrain) (0.2.5)\n",
            "Requirement already satisfied: ptyprocess>=0.5 in /usr/local/lib/python3.7/dist-packages (from pexpect; sys_platform != \"win32\"->ipython->ktrain) (0.7.0)\n",
            "Requirement already satisfied: ipython-genutils in /usr/local/lib/python3.7/dist-packages (from traitlets>=4.2->ipython->ktrain) (0.2.0)\n",
            "Requirement already satisfied: click in /usr/local/lib/python3.7/dist-packages (from sacremoses->transformers<=4.3.3,>=4.0.0->ktrain) (7.1.2)\n",
            "Requirement already satisfied: zipp>=0.5 in /usr/local/lib/python3.7/dist-packages (from importlib-metadata; python_version < \"3.8\"->transformers<=4.3.3,>=4.0.0->ktrain) (3.5.0)\n",
            "Requirement already satisfied: typing-extensions>=3.6.4; python_version < \"3.8\" in /usr/local/lib/python3.7/dist-packages (from importlib-metadata; python_version < \"3.8\"->transformers<=4.3.3,>=4.0.0->ktrain) (3.7.4.3)\n",
            "Requirement already satisfied: cached-property; python_version < \"3.8\" in /usr/local/lib/python3.7/dist-packages (from h5py->Keras>=2.4.3->keras-bert>=0.86.0->ktrain) (1.5.2)\n",
            "Requirement already satisfied: keras-self-attention>=0.50.0 in /usr/local/lib/python3.7/dist-packages (from keras-multi-head>=0.28.0->keras-transformer>=0.39.0->keras-bert>=0.86.0->ktrain) (0.50.0)\n"
          ],
          "name": "stdout"
        }
      ]
    },
    {
      "cell_type": "code",
      "metadata": {
        "id": "LCrLWqnaABQV"
      },
      "source": [
        "import ktrain\n",
        "import matplotlib.pyplot as plt\n",
        "from ktrain import text"
      ],
      "execution_count": 41,
      "outputs": []
    },
    {
      "cell_type": "markdown",
      "metadata": {
        "id": "jGtMDT8cDhD4"
      },
      "source": [
        ""
      ]
    },
    {
      "cell_type": "code",
      "metadata": {
        "colab": {
          "base_uri": "https://localhost:8080/"
        },
        "id": "H4qqqkt7AO7_",
        "outputId": "158d8023-ee99-441a-f156-20ae55c8b7ea"
      },
      "source": [
        "(trn, val, preproc) = text.entities_from_txt(train_filepath=TRAIN_DATA, val_filepath=VALIDATION_DATA, data_format='conll2003')"
      ],
      "execution_count": 42,
      "outputs": [
        {
          "output_type": "stream",
          "text": [
            "detected encoding: utf-8 (if wrong, set manually)\n",
            "Number of sentences:  9141\n",
            "Number of words in the dataset:  14023\n",
            "Tags: ['O', 'I', 'B']\n",
            "Number of Labels:  3\n",
            "Longest sentence: 225 words\n"
          ],
          "name": "stdout"
        }
      ]
    },
    {
      "cell_type": "code",
      "metadata": {
        "colab": {
          "base_uri": "https://localhost:8080/"
        },
        "id": "ug-ndqfdDr0u",
        "outputId": "04c983c9-6b90-4eaf-c155-84b44d6cfdc2"
      },
      "source": [
        "text.print_sequence_taggers()"
      ],
      "execution_count": 43,
      "outputs": [
        {
          "output_type": "stream",
          "text": [
            "bilstm: Bidirectional LSTM (https://arxiv.org/abs/1603.01360)\n",
            "bilstm-bert: Bidirectional LSTM w/ BERT embeddings\n",
            "bilstm-crf: Bidirectional LSTM-CRF  (https://arxiv.org/abs/1603.01360)\n",
            "bilstm-elmo: Bidirectional LSTM w/ Elmo embeddings [English only]\n",
            "bilstm-crf-elmo: Bidirectional LSTM-CRF w/ Elmo embeddings [English only]\n"
          ],
          "name": "stdout"
        }
      ]
    },
    {
      "cell_type": "code",
      "metadata": {
        "id": "Yyr7R484AVj4"
      },
      "source": [
        "# Load model\n",
        "model = text.sequence_tagger('bilstm-bert', preproc, bert_model='monologg/biobert_v1.1_pubmed')"
      ],
      "execution_count": null,
      "outputs": []
    },
    {
      "cell_type": "code",
      "metadata": {
        "id": "szMBwUcTBfaD"
      },
      "source": [
        "learner = ktrain.get_learner(model, train_data=trn, val_data=val, batch_size=128, eval_batch_size=64)"
      ],
      "execution_count": 45,
      "outputs": []
    },
    {
      "cell_type": "code",
      "metadata": {
        "id": "m0mYnOWJAgBp"
      },
      "source": [
        "# Train using SGDR\n",
        "learner.set_model(model)"
      ],
      "execution_count": 46,
      "outputs": []
    },
    {
      "cell_type": "markdown",
      "metadata": {
        "id": "T69ZqmS3DzdD"
      },
      "source": [
        "###  Train and Evaluate Model"
      ]
    },
    {
      "cell_type": "code",
      "metadata": {
        "colab": {
          "base_uri": "https://localhost:8080/"
        },
        "id": "CSuS-1uiBhQr",
        "outputId": "857e4404-0e08-4696-ad39-adb92ed85b8c"
      },
      "source": [
        "learner.fit(1e-3, 3, cycle_len=1, cycle_mult=2, early_stopping=3)"
      ],
      "execution_count": 47,
      "outputs": [
        {
          "output_type": "stream",
          "text": [
            "preparing training data ...done.\n",
            "preparing validation data ...done.\n",
            "Epoch 1/7\n",
            "72/72 [==============================] - 138s 2s/step - loss: 0.0622 - val_loss: 0.0418\n",
            "Epoch 2/7\n",
            "72/72 [==============================] - 134s 2s/step - loss: 0.0278 - val_loss: 0.0208\n",
            "Epoch 3/7\n",
            "72/72 [==============================] - 136s 2s/step - loss: 0.0186 - val_loss: 0.0199\n",
            "Epoch 4/7\n",
            "72/72 [==============================] - 136s 2s/step - loss: 0.0163 - val_loss: 0.0168\n",
            "Epoch 5/7\n",
            "72/72 [==============================] - 136s 2s/step - loss: 0.0123 - val_loss: 0.0165\n",
            "Epoch 6/7\n",
            "72/72 [==============================] - 136s 2s/step - loss: 0.0100 - val_loss: 0.0164\n",
            "Epoch 7/7\n",
            "72/72 [==============================] - 136s 2s/step - loss: 0.0090 - val_loss: 0.0165\n",
            "Weights from best epoch have been loaded into model.\n"
          ],
          "name": "stdout"
        },
        {
          "output_type": "execute_result",
          "data": {
            "text/plain": [
              "<tensorflow.python.keras.callbacks.History at 0x7ff04ae01d50>"
            ]
          },
          "metadata": {
            "tags": []
          },
          "execution_count": 47
        }
      ]
    },
    {
      "cell_type": "code",
      "metadata": {
        "colab": {
          "base_uri": "https://localhost:8080/"
        },
        "id": "HcC8Y1ChAlZV",
        "outputId": "f6337955-edc5-4c7f-b185-bfc143fcc923"
      },
      "source": [
        "# Validation\n",
        "learner.validate()\n",
        "learner.view_top_losses(n=1)"
      ],
      "execution_count": 48,
      "outputs": [
        {
          "output_type": "stream",
          "text": [
            "   F1:  80.26\n",
            "              precision    recall  f1-score   support\n",
            "\n",
            "           _       0.76      0.85      0.80      4424\n",
            "\n",
            "   micro avg       0.76      0.85      0.80      4424\n",
            "   macro avg       0.76      0.85      0.80      4424\n",
            "weighted avg       0.76      0.85      0.80      4424\n",
            "\n",
            "total incorrect: 12\n",
            "Word            True : (Pred)\n",
            "==============================\n",
            "We             :O     (O)\n",
            "used           :O     (O)\n",
            "high           :O     (O)\n",
            "-              :O     (O)\n",
            "resolution     :O     (O)\n",
            "MRI            :O     (O)\n",
            "and            :O     (O)\n",
            "surface        :O     (O)\n",
            "-              :O     (O)\n",
            "based          :O     (O)\n",
            "computational  :O     (O)\n",
            "image          :O     (O)\n",
            "analyses       :O     (O)\n",
            "to             :O     (O)\n",
            "map            :O     (O)\n",
            "regional       :O     (O)\n",
            "abnormalities  :B     (O)\n",
            "in             :I     (O)\n",
            "the            :I     (O)\n",
            "cortex         :I     (O)\n",
            ",              :I     (O)\n",
            "hippocampus    :I     (O)\n",
            ",              :I     (O)\n",
            "white          :I     (O)\n",
            "matter         :I     (O)\n",
            ",              :I     (O)\n",
            "and            :I     (O)\n",
            "ventricles     :I     (O)\n",
            "in             :O     (O)\n",
            "22             :O     (O)\n",
            "human          :O     (O)\n",
            "subjects       :O     (O)\n",
            "who            :O     (O)\n",
            "used           :O     (O)\n",
            "MA             :O     (O)\n",
            "and            :O     (O)\n",
            "21             :O     (O)\n",
            "age            :O     (O)\n",
            "-              :O     (O)\n",
            "matched        :O     (O)\n",
            ",              :O     (O)\n",
            "healthy        :O     (O)\n",
            "controls       :O     (O)\n",
            ".              :O     (O)\n",
            "\n",
            "\n"
          ],
          "name": "stdout"
        }
      ]
    },
    {
      "cell_type": "code",
      "metadata": {
        "colab": {
          "base_uri": "https://localhost:8080/",
          "height": 573
        },
        "id": "t8p4vLK7AoqA",
        "outputId": "88e59e89-df74-4f7f-a934-59011d0968b6"
      },
      "source": [
        "# Plot\n",
        "learner.plot('lr')\n",
        "learner.plot('loss')\n",
        "plt.show(block=True)\n",
        "plt.interactive(False)"
      ],
      "execution_count": 50,
      "outputs": [
        {
          "output_type": "display_data",
          "data": {
            "image/png": "[encoded data removed]",
            "text/plain": [
              "<Figure size 432x288 with 1 Axes>"
            ]
          },
          "metadata": {
            "tags": [],
            "needs_background": "light"
          }
        },
        {
          "output_type": "display_data",
          "data": {
            "image/png": "[encoded data removed]",
            "text/plain": [
              "<Figure size 432x288 with 1 Axes>"
            ]
          },
          "metadata": {
            "tags": [],
            "needs_background": "light"
          }
        }
      ]
    },
    {
      "cell_type": "markdown",
      "metadata": {
        "id": "PXJFmzD7EIiS"
      },
      "source": [
        "### Make Predictions on New Data"
      ]
    },
    {
      "cell_type": "code",
      "metadata": {
        "id": "jWl2HHr0EKtL"
      },
      "source": [
        "predictor = ktrain.get_predictor(learner.model, preproc)"
      ],
      "execution_count": 51,
      "outputs": []
    },
    {
      "cell_type": "code",
      "metadata": {
        "colab": {
          "base_uri": "https://localhost:8080/"
        },
        "id": "cqxPy7pBENEo",
        "outputId": "c4c58c62-a7ba-47e7-a7a1-5125ae75a8cc"
      },
      "source": [
        "predictor.predict('Torsade de pointes  ventricular  tachycardia  during low dose intermittent dobutamine treatment in a patient with dilated cardiomyopathy  and congestive  heart  failure ')"
      ],
      "execution_count": 52,
      "outputs": [
        {
          "output_type": "execute_result",
          "data": {
            "text/plain": [
              "[('Torsade', 'B'),\n",
              " ('de', 'I'),\n",
              " ('pointes', 'I'),\n",
              " ('ventricular', 'B'),\n",
              " ('tachycardia', 'I'),\n",
              " ('during', 'O'),\n",
              " ('low', 'O'),\n",
              " ('dose', 'O'),\n",
              " ('intermittent', 'O'),\n",
              " ('dobutamine', 'O'),\n",
              " ('treatment', 'O'),\n",
              " ('in', 'O'),\n",
              " ('a', 'O'),\n",
              " ('patient', 'O'),\n",
              " ('with', 'O'),\n",
              " ('dilated', 'B'),\n",
              " ('cardiomyopathy', 'I'),\n",
              " ('and', 'O'),\n",
              " ('congestive', 'B'),\n",
              " ('heart', 'I'),\n",
              " ('failure', 'I')]"
            ]
          },
          "metadata": {
            "tags": []
          },
          "execution_count": 52
        }
      ]
    },
    {
      "cell_type": "markdown",
      "metadata": {
        "id": "gbxL0UwoFMb8"
      },
      "source": [
        "### Save the Model"
      ]
    },
    {
      "cell_type": "code",
      "metadata": {
        "id": "aKk4_f5vEoY3"
      },
      "source": [
        "predictor.save('/content/nerpred')"
      ],
      "execution_count": 53,
      "outputs": []
    },
    {
      "cell_type": "markdown",
      "metadata": {
        "id": "8R7kOZUIFQ4r"
      },
      "source": [
        "### load the model for predictions"
      ]
    },
    {
      "cell_type": "code",
      "metadata": {
        "colab": {
          "base_uri": "https://localhost:8080/"
        },
        "id": "9gLI8CATE5VA",
        "outputId": "c2a78e96-f839-40a1-f443-0076e04023b4"
      },
      "source": [
        "reloaded_predictor = ktrain.load_predictor('/content/nerpred')"
      ],
      "execution_count": 54,
      "outputs": [
        {
          "output_type": "stream",
          "text": [
            "404 Client Error: Not Found for url: https://huggingface.co/monologg/biobert_v1.1_pubmed/resolve/main/tf_model.h5\n",
            "/usr/local/lib/python3.7/dist-packages/ktrain/text/preprocessor.py:1342: UserWarning: Could not find Tensorflow version of model.  Attempting to download/load PyTorch version as TensorFlow model using from_pt=True. You will need PyTorch installed for this.\n",
            "  warnings.warn('Could not find Tensorflow version of model.  Attempting to download/load PyTorch version as TensorFlow model using from_pt=True. ' +\\\n"
          ],
          "name": "stderr"
        }
      ]
    },
    {
      "cell_type": "markdown",
      "metadata": {
        "id": "fBVQd6x6FUIc"
      },
      "source": [
        "### new data prediction form load model"
      ]
    },
    {
      "cell_type": "code",
      "metadata": {
        "colab": {
          "base_uri": "https://localhost:8080/"
        },
        "id": "1tSm1xYrE8nv",
        "outputId": "725a20e5-8b75-4c30-fddc-348fb714d412"
      },
      "source": [
        "pred=reloaded_predictor.predict(\"Selegiline - induced postural hypotension in Parkinson ' s disease : a longitudinal study on the effects of drug withdrawal.The aims of this study were to confirm our previous findings in a separate cohort of patients and to determine the time course of the cardiovascular consequences of stopping selegiline in the expectation that this might shed light on the mechanisms by which the drug causes orthostatic hypotension\")\n",
        "for i in pred:\n",
        "  if i[1]==\"B\" or i[1]==\"I\":\n",
        "    print(i)"
      ],
      "execution_count": 55,
      "outputs": [
        {
          "output_type": "stream",
          "text": [
            "('postural', 'B')\n",
            "('hypotension', 'B')\n",
            "('Parkinson', 'B')\n",
            "(\"'\", 'I')\n",
            "('s', 'I')\n",
            "('disease', 'I')\n",
            "('orthostatic', 'B')\n",
            "('hypotension', 'I')\n"
          ],
          "name": "stdout"
        }
      ]
    }
  ]
}