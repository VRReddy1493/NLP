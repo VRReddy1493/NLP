{
  "nbformat": 4,
  "nbformat_minor": 0,
  "metadata": {
    "colab": {
      "name": "Spacy: Sentiment Anlysis on IMDB movie Reviews using Word2vec Embedding.ipynb",
      "provenance": [],
      "collapsed_sections": []
    },
    "kernelspec": {
      "display_name": "Python 3",
      "language": "python",
      "name": "python3"
    },
    "language_info": {
      "codemirror_mode": {
        "name": "ipython",
        "version": 3
      },
      "file_extension": ".py",
      "mimetype": "text/x-python",
      "name": "python",
      "nbconvert_exporter": "python",
      "pygments_lexer": "ipython3",
      "version": "3.8.5"
    }
  },
  "cells": [
    {
      "cell_type": "markdown",
      "metadata": {
        "id": "dKGz-l0g-LNo"
      },
      "source": [
        "# Spacy: Sentiment Anlysis on IMDB movie Reviews using Word2vec Embedding"
      ]
    },
    {
      "cell_type": "markdown",
      "metadata": {
        "id": "9oy-Rx_cXxuC"
      },
      "source": [
        "![download.png](data:image/png;base64,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)"
      ]
    },
    {
      "cell_type": "code",
      "metadata": {
        "colab": {
          "base_uri": "https://localhost:8080/"
        },
        "id": "_VWZm99VMp-q",
        "outputId": "3496446c-3bf6-4379-acfd-a8fbeb8d5635"
      },
      "source": [
        "!pip install spacy\n",
        "!python -m spacy download en_core_web_lg"
      ],
      "execution_count": 1,
      "outputs": [
        {
          "output_type": "stream",
          "text": [
            "Requirement already satisfied: spacy in /usr/local/lib/python3.7/dist-packages (2.2.4)\n",
            "Requirement already satisfied: plac<1.2.0,>=0.9.6 in /usr/local/lib/python3.7/dist-packages (from spacy) (1.1.3)\n",
            "Requirement already satisfied: murmurhash<1.1.0,>=0.28.0 in /usr/local/lib/python3.7/dist-packages (from spacy) (1.0.5)\n",
            "Requirement already satisfied: blis<0.5.0,>=0.4.0 in /usr/local/lib/python3.7/dist-packages (from spacy) (0.4.1)\n",
            "Requirement already satisfied: setuptools in /usr/local/lib/python3.7/dist-packages (from spacy) (57.0.0)\n",
            "Requirement already satisfied: thinc==7.4.0 in /usr/local/lib/python3.7/dist-packages (from spacy) (7.4.0)\n",
            "Requirement already satisfied: catalogue<1.1.0,>=0.0.7 in /usr/local/lib/python3.7/dist-packages (from spacy) (1.0.0)\n",
            "Requirement already satisfied: requests<3.0.0,>=2.13.0 in /usr/local/lib/python3.7/dist-packages (from spacy) (2.23.0)\n",
            "Requirement already satisfied: srsly<1.1.0,>=1.0.2 in /usr/local/lib/python3.7/dist-packages (from spacy) (1.0.5)\n",
            "Requirement already satisfied: cymem<2.1.0,>=2.0.2 in /usr/local/lib/python3.7/dist-packages (from spacy) (2.0.5)\n",
            "Requirement already satisfied: preshed<3.1.0,>=3.0.2 in /usr/local/lib/python3.7/dist-packages (from spacy) (3.0.5)\n",
            "Requirement already satisfied: wasabi<1.1.0,>=0.4.0 in /usr/local/lib/python3.7/dist-packages (from spacy) (0.8.2)\n",
            "Requirement already satisfied: numpy>=1.15.0 in /usr/local/lib/python3.7/dist-packages (from spacy) (1.19.5)\n",
            "Requirement already satisfied: tqdm<5.0.0,>=4.38.0 in /usr/local/lib/python3.7/dist-packages (from spacy) (4.41.1)\n",
            "Requirement already satisfied: importlib-metadata>=0.20; python_version < \"3.8\" in /usr/local/lib/python3.7/dist-packages (from catalogue<1.1.0,>=0.0.7->spacy) (4.5.0)\n",
            "Requirement already satisfied: chardet<4,>=3.0.2 in /usr/local/lib/python3.7/dist-packages (from requests<3.0.0,>=2.13.0->spacy) (3.0.4)\n",
            "Requirement already satisfied: urllib3!=1.25.0,!=1.25.1,<1.26,>=1.21.1 in /usr/local/lib/python3.7/dist-packages (from requests<3.0.0,>=2.13.0->spacy) (1.24.3)\n",
            "Requirement already satisfied: idna<3,>=2.5 in /usr/local/lib/python3.7/dist-packages (from requests<3.0.0,>=2.13.0->spacy) (2.10)\n",
            "Requirement already satisfied: certifi>=2017.4.17 in /usr/local/lib/python3.7/dist-packages (from requests<3.0.0,>=2.13.0->spacy) (2021.5.30)\n",
            "Requirement already satisfied: zipp>=0.5 in /usr/local/lib/python3.7/dist-packages (from importlib-metadata>=0.20; python_version < \"3.8\"->catalogue<1.1.0,>=0.0.7->spacy) (3.4.1)\n",
            "Requirement already satisfied: typing-extensions>=3.6.4; python_version < \"3.8\" in /usr/local/lib/python3.7/dist-packages (from importlib-metadata>=0.20; python_version < \"3.8\"->catalogue<1.1.0,>=0.0.7->spacy) (3.7.4.3)\n",
            "Collecting en_core_web_lg==2.2.5\n",
            "\u001b[?25l  Downloading https://github.com/explosion/spacy-models/releases/download/en_core_web_lg-2.2.5/en_core_web_lg-2.2.5.tar.gz (827.9MB)\n",
            "\u001b[K     |████████████████████████████████| 827.9MB 1.3MB/s \n",
            "\u001b[?25hRequirement already satisfied: spacy>=2.2.2 in /usr/local/lib/python3.7/dist-packages (from en_core_web_lg==2.2.5) (2.2.4)\n",
            "Requirement already satisfied: plac<1.2.0,>=0.9.6 in /usr/local/lib/python3.7/dist-packages (from spacy>=2.2.2->en_core_web_lg==2.2.5) (1.1.3)\n",
            "Requirement already satisfied: setuptools in /usr/local/lib/python3.7/dist-packages (from spacy>=2.2.2->en_core_web_lg==2.2.5) (57.0.0)\n",
            "Requirement already satisfied: catalogue<1.1.0,>=0.0.7 in /usr/local/lib/python3.7/dist-packages (from spacy>=2.2.2->en_core_web_lg==2.2.5) (1.0.0)\n",
            "Requirement already satisfied: preshed<3.1.0,>=3.0.2 in /usr/local/lib/python3.7/dist-packages (from spacy>=2.2.2->en_core_web_lg==2.2.5) (3.0.5)\n",
            "Requirement already satisfied: murmurhash<1.1.0,>=0.28.0 in /usr/local/lib/python3.7/dist-packages (from spacy>=2.2.2->en_core_web_lg==2.2.5) (1.0.5)\n",
            "Requirement already satisfied: srsly<1.1.0,>=1.0.2 in /usr/local/lib/python3.7/dist-packages (from spacy>=2.2.2->en_core_web_lg==2.2.5) (1.0.5)\n",
            "Requirement already satisfied: thinc==7.4.0 in /usr/local/lib/python3.7/dist-packages (from spacy>=2.2.2->en_core_web_lg==2.2.5) (7.4.0)\n",
            "Requirement already satisfied: wasabi<1.1.0,>=0.4.0 in /usr/local/lib/python3.7/dist-packages (from spacy>=2.2.2->en_core_web_lg==2.2.5) (0.8.2)\n",
            "Requirement already satisfied: tqdm<5.0.0,>=4.38.0 in /usr/local/lib/python3.7/dist-packages (from spacy>=2.2.2->en_core_web_lg==2.2.5) (4.41.1)\n",
            "Requirement already satisfied: numpy>=1.15.0 in /usr/local/lib/python3.7/dist-packages (from spacy>=2.2.2->en_core_web_lg==2.2.5) (1.19.5)\n",
            "Requirement already satisfied: cymem<2.1.0,>=2.0.2 in /usr/local/lib/python3.7/dist-packages (from spacy>=2.2.2->en_core_web_lg==2.2.5) (2.0.5)\n",
            "Requirement already satisfied: blis<0.5.0,>=0.4.0 in /usr/local/lib/python3.7/dist-packages (from spacy>=2.2.2->en_core_web_lg==2.2.5) (0.4.1)\n",
            "Requirement already satisfied: requests<3.0.0,>=2.13.0 in /usr/local/lib/python3.7/dist-packages (from spacy>=2.2.2->en_core_web_lg==2.2.5) (2.23.0)\n",
            "Requirement already satisfied: importlib-metadata>=0.20; python_version < \"3.8\" in /usr/local/lib/python3.7/dist-packages (from catalogue<1.1.0,>=0.0.7->spacy>=2.2.2->en_core_web_lg==2.2.5) (4.5.0)\n",
            "Requirement already satisfied: urllib3!=1.25.0,!=1.25.1,<1.26,>=1.21.1 in /usr/local/lib/python3.7/dist-packages (from requests<3.0.0,>=2.13.0->spacy>=2.2.2->en_core_web_lg==2.2.5) (1.24.3)\n",
            "Requirement already satisfied: chardet<4,>=3.0.2 in /usr/local/lib/python3.7/dist-packages (from requests<3.0.0,>=2.13.0->spacy>=2.2.2->en_core_web_lg==2.2.5) (3.0.4)\n",
            "Requirement already satisfied: idna<3,>=2.5 in /usr/local/lib/python3.7/dist-packages (from requests<3.0.0,>=2.13.0->spacy>=2.2.2->en_core_web_lg==2.2.5) (2.10)\n",
            "Requirement already satisfied: certifi>=2017.4.17 in /usr/local/lib/python3.7/dist-packages (from requests<3.0.0,>=2.13.0->spacy>=2.2.2->en_core_web_lg==2.2.5) (2021.5.30)\n",
            "Requirement already satisfied: zipp>=0.5 in /usr/local/lib/python3.7/dist-packages (from importlib-metadata>=0.20; python_version < \"3.8\"->catalogue<1.1.0,>=0.0.7->spacy>=2.2.2->en_core_web_lg==2.2.5) (3.4.1)\n",
            "Requirement already satisfied: typing-extensions>=3.6.4; python_version < \"3.8\" in /usr/local/lib/python3.7/dist-packages (from importlib-metadata>=0.20; python_version < \"3.8\"->catalogue<1.1.0,>=0.0.7->spacy>=2.2.2->en_core_web_lg==2.2.5) (3.7.4.3)\n",
            "Building wheels for collected packages: en-core-web-lg\n",
            "  Building wheel for en-core-web-lg (setup.py) ... \u001b[?25l\u001b[?25hdone\n",
            "  Created wheel for en-core-web-lg: filename=en_core_web_lg-2.2.5-cp37-none-any.whl size=829180945 sha256=35ab822374e7de55197067677d824f20f4546db5955e3c7e76c3023d19d7d34d\n",
            "  Stored in directory: /tmp/pip-ephem-wheel-cache-0reax7j5/wheels/2a/c1/a6/fc7a877b1efca9bc6a089d6f506f16d3868408f9ff89f8dbfc\n",
            "Successfully built en-core-web-lg\n",
            "Installing collected packages: en-core-web-lg\n",
            "Successfully installed en-core-web-lg-2.2.5\n",
            "\u001b[38;5;2m✔ Download and installation successful\u001b[0m\n",
            "You can now load the model via spacy.load('en_core_web_lg')\n"
          ],
          "name": "stdout"
        }
      ]
    },
    {
      "cell_type": "code",
      "metadata": {
        "id": "UxB6Xov9PPhQ"
      },
      "source": [
        "import spacy\n",
        "import en_core_web_lg\n",
        "import re\n",
        "from spacy.lang.en.stop_words import STOP_WORDS as stopwords\n",
        "from bs4 import BeautifulSoup\n",
        "import unicodedata\n",
        "from textblob import TextBlob\n",
        "\n",
        "import numpy as np\n",
        "import pandas as pd\n",
        "\n",
        "from sklearn.linear_model import LogisticRegression\n",
        "from sklearn.model_selection import train_test_split\n",
        "from sklearn.metrics import accuracy_score, confusion_matrix,classification_report\n",
        "from sklearn.svm import LinearSVC"
      ],
      "execution_count": 63,
      "outputs": []
    },
    {
      "cell_type": "code",
      "metadata": {
        "id": "N5nkM9nDPSAJ"
      },
      "source": [
        "nlp = en_core_web_lg.load()"
      ],
      "execution_count": 5,
      "outputs": []
    },
    {
      "cell_type": "code",
      "metadata": {
        "id": "HUKuTG4_QEP0"
      },
      "source": [
        "def get_wordcounts(x):\n",
        "\tlength = len(str(x).split())\n",
        "\treturn length"
      ],
      "execution_count": 7,
      "outputs": []
    },
    {
      "cell_type": "code",
      "metadata": {
        "id": "Z75Q094QQkC9"
      },
      "source": [
        "def get_charcounts(x):\n",
        "\ts = x.split()\n",
        "\tx = ''.join(s)\n",
        "\treturn len(x)"
      ],
      "execution_count": 8,
      "outputs": []
    },
    {
      "cell_type": "code",
      "metadata": {
        "id": "Wy-oLODVQue1"
      },
      "source": [
        "def get_avg_wordlength(x):\n",
        "\tcount = get_charcounts(x)/get_wordcounts(x)\n",
        "\treturn count"
      ],
      "execution_count": 9,
      "outputs": []
    },
    {
      "cell_type": "code",
      "metadata": {
        "id": "sfYkUgWcQ3jE"
      },
      "source": [
        "def get_stopwords_counts(x):\n",
        "\tl = len([t for t in x.split() if t in stopwords])\n",
        "\treturn l"
      ],
      "execution_count": 10,
      "outputs": []
    },
    {
      "cell_type": "code",
      "metadata": {
        "id": "Wj5ts_B_Q6GB"
      },
      "source": [
        "def get_hashtag_counts(x):\n",
        "\tl = len([t for t in x.split() if t.startswith('#')])\n",
        "\treturn l"
      ],
      "execution_count": 11,
      "outputs": []
    },
    {
      "cell_type": "code",
      "metadata": {
        "id": "29m_v0vDQ-Mz"
      },
      "source": [
        "def get_mentions_counts(x):\n",
        "\tl = len([t for t in x.split() if t.startswith('@')])\n",
        "\treturn l"
      ],
      "execution_count": 12,
      "outputs": []
    },
    {
      "cell_type": "code",
      "metadata": {
        "id": "Hf_4X_9YRCBY"
      },
      "source": [
        "\n",
        "def get_digit_counts(x):\n",
        "\tdigits = re.findall(r'[0-9,.]+', x)\n",
        "\treturn len(digits)"
      ],
      "execution_count": 13,
      "outputs": []
    },
    {
      "cell_type": "code",
      "metadata": {
        "id": "dv0_-G_oRMou"
      },
      "source": [
        "def get_digit_counts(x):\n",
        "\tdigits = re.findall(r'[0-9,.]+', x)\n",
        "\treturn len(digits)"
      ],
      "execution_count": 14,
      "outputs": []
    },
    {
      "cell_type": "code",
      "metadata": {
        "id": "Qzw6SUJBRQtW"
      },
      "source": [
        "def get_uppercase_counts(x):\n",
        "\treturn len([t for t in x.split() if t.isupper()])"
      ],
      "execution_count": 15,
      "outputs": []
    },
    {
      "cell_type": "code",
      "metadata": {
        "id": "PXtZej_zRVAM"
      },
      "source": [
        "def get_emails(x):\n",
        "\temails = re.findall(r'([a-z0-9+._-]+@[a-z0-9+._-]+\\.[a-z0-9+_-]+\\b)', x)\n",
        "\tcounts = len(emails)\n",
        "\n",
        "\treturn counts, emails"
      ],
      "execution_count": 16,
      "outputs": []
    },
    {
      "cell_type": "code",
      "metadata": {
        "id": "9ggTXAevRqAh"
      },
      "source": [
        "def remove_emails(x):\n",
        "\treturn re.sub(r'([a-z0-9+._-]+@[a-z0-9+._-]+\\.[a-z0-9+_-]+)',\"\", x)"
      ],
      "execution_count": 17,
      "outputs": []
    },
    {
      "cell_type": "code",
      "metadata": {
        "id": "dkItaPDrRm3U"
      },
      "source": [
        "def get_urls(x):\n",
        "\turls = re.findall(r'(http|https|ftp|ssh)://([\\w_-]+(?:(?:\\.[\\w_-]+)+))([\\w.,@?^=%&:/~+#-]*[\\w@?^=%&/~+#-])?', x)\n",
        "\tcounts = len(urls)\n",
        "\n",
        "\treturn counts, urls"
      ],
      "execution_count": 18,
      "outputs": []
    },
    {
      "cell_type": "code",
      "metadata": {
        "id": "Ynzr9K_ERzu8"
      },
      "source": [
        "def remove_urls(x):\n",
        "\treturn re.sub(r'(http|https|ftp|ssh)://([\\w_-]+(?:(?:\\.[\\w_-]+)+))([\\w.,@?^=%&:/~+#-]*[\\w@?^=%&/~+#-])?', '' , x)"
      ],
      "execution_count": 19,
      "outputs": []
    },
    {
      "cell_type": "code",
      "metadata": {
        "id": "qcgcQLqfR5Dk"
      },
      "source": [
        "def remove_rt(x):\n",
        "\treturn re.sub(r'\\brt\\b', '', x).strip()"
      ],
      "execution_count": 20,
      "outputs": []
    },
    {
      "cell_type": "code",
      "metadata": {
        "id": "segd3NhNR73a"
      },
      "source": [
        "def remove_special_chars(x):\n",
        "\tx = re.sub(r'[^\\w ]+', \"\", x)\n",
        "\tx = ' '.join(x.split())\n",
        "\treturn x"
      ],
      "execution_count": 21,
      "outputs": []
    },
    {
      "cell_type": "code",
      "metadata": {
        "id": "1G3LXHzTR-KF"
      },
      "source": [
        "def remove_html_tags(x):\n",
        "\treturn BeautifulSoup(x, 'lxml').get_text().strip()"
      ],
      "execution_count": 22,
      "outputs": []
    },
    {
      "cell_type": "code",
      "metadata": {
        "id": "4FmuGpPRSAgP"
      },
      "source": [
        "def remove_accented_chars(x):\n",
        "\tx = unicodedata.normalize('NFKD', x).encode('ascii', 'ignore').decode('utf-8', 'ignore')\n",
        "\treturn x"
      ],
      "execution_count": 23,
      "outputs": []
    },
    {
      "cell_type": "code",
      "metadata": {
        "id": "8RdceawDSJRj"
      },
      "source": [
        "def remove_stopwords(x):\n",
        "\treturn ' '.join([t for t in x.split() if t not in stopwords])\t"
      ],
      "execution_count": 24,
      "outputs": []
    },
    {
      "cell_type": "code",
      "metadata": {
        "id": "TWkiJxxWSM4i"
      },
      "source": [
        "def make_base(x):\n",
        "\tx = str(x)\n",
        "\tx_list = []\n",
        "\tdoc = nlp(x)\n",
        "\t\n",
        "\tfor token in doc:\n",
        "\t\tlemma = token.lemma_\n",
        "\t\tif lemma == '-PRON-' or lemma == 'be':\n",
        "\t\t\tlemma = token.text\n",
        "\n",
        "\t\tx_list.append(lemma)\n",
        "\treturn ' '.join(x_list)"
      ],
      "execution_count": 25,
      "outputs": []
    },
    {
      "cell_type": "code",
      "metadata": {
        "id": "nVd1B6d-SRA1"
      },
      "source": [
        "def get_value_counts(df, col):\n",
        "\ttext = ' '.join(df[col])\n",
        "\ttext = text.split()\n",
        "\tfreq = pd.Series(text).value_counts()\n",
        "\treturn freq"
      ],
      "execution_count": 26,
      "outputs": []
    },
    {
      "cell_type": "code",
      "metadata": {
        "id": "W6ds7Ll7SOYA"
      },
      "source": [
        "def remove_common_words(x, freq, n=20):\n",
        "\tfn = freq[:n]\n",
        "\tx = ' '.join([t for t in x.split() if t not in fn])\n",
        "\treturn x"
      ],
      "execution_count": 27,
      "outputs": []
    },
    {
      "cell_type": "code",
      "metadata": {
        "id": "iJJn_kcFSiUC"
      },
      "source": [
        "def remove_rarewords(x, freq, n=20):\n",
        "\tfn = freq.tail(n)\n",
        "\tx = ' '.join([t for t in x.split() if t not in fn])\n",
        "\treturn x"
      ],
      "execution_count": 28,
      "outputs": []
    },
    {
      "cell_type": "code",
      "metadata": {
        "id": "3K6Er5ZaSkbt"
      },
      "source": [
        "def remove_dups_char(x):\n",
        "\tx = re.sub(\"(.)\\\\1{2,}\", \"\\\\1\", x)\n",
        "\treturn x"
      ],
      "execution_count": 29,
      "outputs": []
    },
    {
      "cell_type": "code",
      "metadata": {
        "id": "HI7qWDZHSov0"
      },
      "source": [
        "def spelling_correction(x):\n",
        "\tx = TextBlob(x).correct()\n",
        "\treturn x"
      ],
      "execution_count": 30,
      "outputs": []
    },
    {
      "cell_type": "code",
      "metadata": {
        "id": "c4ozvBF0QMEm"
      },
      "source": [
        "def get_basic_features(df):\n",
        "\tif type(df) == pd.core.frame.DataFrame:\n",
        "\t\tdf['char_counts'] = df['text'].apply(lambda x:get_charcounts(x))\n",
        "\t\tdf['word_counts'] = df['text'].apply(lambda x:get_wordcounts(x))\n",
        "\t\tdf['avg_wordlength'] = df['text'].apply(lambda x:get_avg_wordlength(x))\n",
        "\t\tdf['stopwords_counts'] = df['text'].apply(lambda x:get_stopwords_counts(x))\n",
        "\t\tdf['hashtag_counts'] = df['text'].apply(lambda x:get_hashtag_counts(x))\n",
        "\t\tdf['mentions_counts'] = df['text'].apply(lambda x:get_mentions_counts(x))\n",
        "\t\tdf['digits_counts'] = df['text'].apply(lambda x:get_digit_counts(x))\n",
        "\t\tdf['uppercase_counts'] = df['text'].apply(lambda x:get_uppercase_counts(x))\n",
        "\telse:\n",
        "\t\tprint('ERROR: This function takes only Pandas DataFrame')"
      ],
      "execution_count": 31,
      "outputs": []
    },
    {
      "cell_type": "code",
      "metadata": {
        "id": "WmdwNvd4QCSH"
      },
      "source": [
        "df = pd.read_csv('moviereviews.tsv', sep = '\\t')"
      ],
      "execution_count": 34,
      "outputs": []
    },
    {
      "cell_type": "code",
      "metadata": {
        "id": "oFr4QAwVUC8g",
        "colab": {
          "base_uri": "https://localhost:8080/",
          "height": 203
        },
        "outputId": "cac4317c-bca7-4ee2-e470-66addd9a0007"
      },
      "source": [
        "df.head()"
      ],
      "execution_count": 35,
      "outputs": [
        {
          "output_type": "execute_result",
          "data": {
            "text/html": [
              "<div>\n",
              "<style scoped>\n",
              "    .dataframe tbody tr th:only-of-type {\n",
              "        vertical-align: middle;\n",
              "    }\n",
              "\n",
              "    .dataframe tbody tr th {\n",
              "        vertical-align: top;\n",
              "    }\n",
              "\n",
              "    .dataframe thead th {\n",
              "        text-align: right;\n",
              "    }\n",
              "</style>\n",
              "<table border=\"1\" class=\"dataframe\">\n",
              "  <thead>\n",
              "    <tr style=\"text-align: right;\">\n",
              "      <th></th>\n",
              "      <th>label</th>\n",
              "      <th>review</th>\n",
              "    </tr>\n",
              "  </thead>\n",
              "  <tbody>\n",
              "    <tr>\n",
              "      <th>0</th>\n",
              "      <td>neg</td>\n",
              "      <td>how do films like mouse hunt get into theatres...</td>\n",
              "    </tr>\n",
              "    <tr>\n",
              "      <th>1</th>\n",
              "      <td>neg</td>\n",
              "      <td>some talented actresses are blessed with a dem...</td>\n",
              "    </tr>\n",
              "    <tr>\n",
              "      <th>2</th>\n",
              "      <td>pos</td>\n",
              "      <td>this has been an extraordinary year for austra...</td>\n",
              "    </tr>\n",
              "    <tr>\n",
              "      <th>3</th>\n",
              "      <td>pos</td>\n",
              "      <td>according to hollywood movies made in last few...</td>\n",
              "    </tr>\n",
              "    <tr>\n",
              "      <th>4</th>\n",
              "      <td>neg</td>\n",
              "      <td>my first press screening of 1998 and already i...</td>\n",
              "    </tr>\n",
              "  </tbody>\n",
              "</table>\n",
              "</div>"
            ],
            "text/plain": [
              "  label                                             review\n",
              "0   neg  how do films like mouse hunt get into theatres...\n",
              "1   neg  some talented actresses are blessed with a dem...\n",
              "2   pos  this has been an extraordinary year for austra...\n",
              "3   pos  according to hollywood movies made in last few...\n",
              "4   neg  my first press screening of 1998 and already i..."
            ]
          },
          "metadata": {
            "tags": []
          },
          "execution_count": 35
        }
      ]
    },
    {
      "cell_type": "code",
      "metadata": {
        "id": "--ZzN9uhVM7R"
      },
      "source": [
        "def get_clean(x):\n",
        "    x = str(x).lower().replace('\\\\', '').replace('_', ' ')\n",
        "    x = remove_emails(x)\n",
        "    x = remove_urls(x)\n",
        "    x = remove_html_tags(x)\n",
        "    x = remove_rt(x)\n",
        "    x = remove_accented_chars(x)\n",
        "    x = remove_special_chars(x)\n",
        "    x = re.sub(\"(.)\\\\1{2,}\", \"\\\\1\", x)\n",
        "    x = make_base(x)\n",
        "    x = remove_stopwords(x)\n",
        "    make_base\n",
        "        \n",
        "    return x"
      ],
      "execution_count": 36,
      "outputs": []
    },
    {
      "cell_type": "code",
      "metadata": {
        "id": "eBir-Q0VQyw8"
      },
      "source": [
        "df['review'] = df['review'].apply(lambda x: get_clean(x))"
      ],
      "execution_count": 41,
      "outputs": []
    },
    {
      "cell_type": "code",
      "metadata": {
        "id": "B8Myf5sxRm7N"
      },
      "source": [
        "df.head()"
      ],
      "execution_count": null,
      "outputs": []
    },
    {
      "cell_type": "markdown",
      "metadata": {
        "id": "-jzaMFe0RzC3"
      },
      "source": [
        "## word2vec Conversion"
      ]
    },
    {
      "cell_type": "code",
      "metadata": {
        "id": "NMg27FV7R1EK"
      },
      "source": [
        "def get_vec(x):\n",
        "  doc = nlp(x)\n",
        "  vec = doc.vector\n",
        "  return vec"
      ],
      "execution_count": 42,
      "outputs": []
    },
    {
      "cell_type": "code",
      "metadata": {
        "id": "WinSPNOUSTTi"
      },
      "source": [
        "df['vec'] = df['review'].apply(lambda x: get_vec(x))"
      ],
      "execution_count": 43,
      "outputs": []
    },
    {
      "cell_type": "code",
      "metadata": {
        "colab": {
          "base_uri": "https://localhost:8080/",
          "height": 203
        },
        "id": "kyJ33rnmSXKv",
        "outputId": "c14653af-99d5-4ed2-e693-064463aa82bb"
      },
      "source": [
        "df.head()"
      ],
      "execution_count": 44,
      "outputs": [
        {
          "output_type": "execute_result",
          "data": {
            "text/html": [
              "<div>\n",
              "<style scoped>\n",
              "    .dataframe tbody tr th:only-of-type {\n",
              "        vertical-align: middle;\n",
              "    }\n",
              "\n",
              "    .dataframe tbody tr th {\n",
              "        vertical-align: top;\n",
              "    }\n",
              "\n",
              "    .dataframe thead th {\n",
              "        text-align: right;\n",
              "    }\n",
              "</style>\n",
              "<table border=\"1\" class=\"dataframe\">\n",
              "  <thead>\n",
              "    <tr style=\"text-align: right;\">\n",
              "      <th></th>\n",
              "      <th>label</th>\n",
              "      <th>review</th>\n",
              "      <th>vec</th>\n",
              "    </tr>\n",
              "  </thead>\n",
              "  <tbody>\n",
              "    <tr>\n",
              "      <th>0</th>\n",
              "      <td>neg</td>\n",
              "      <td>film like mouse hunt theatre law diabolical lo...</td>\n",
              "      <td>[-0.06373213, -0.014791698, -0.043276977, -0.0...</td>\n",
              "    </tr>\n",
              "    <tr>\n",
              "      <th>1</th>\n",
              "      <td>neg</td>\n",
              "      <td>talented actress bless demonstrate wide acting...</td>\n",
              "      <td>[-0.060514063, 0.10852452, -0.0699839, -0.0061...</td>\n",
              "    </tr>\n",
              "    <tr>\n",
              "      <th>2</th>\n",
              "      <td>pos</td>\n",
              "      <td>extraordinary year australian film shine scoop...</td>\n",
              "      <td>[-0.019276105, 0.08678125, -0.022997232, -0.01...</td>\n",
              "    </tr>\n",
              "    <tr>\n",
              "      <th>3</th>\n",
              "      <td>pos</td>\n",
              "      <td>accord hollywood movie decade life small town ...</td>\n",
              "      <td>[0.052097797, 0.041514337, 0.020066146, 0.0244...</td>\n",
              "    </tr>\n",
              "    <tr>\n",
              "      <th>4</th>\n",
              "      <td>neg</td>\n",
              "      <td>press screening 1998 prime candidate bad year ...</td>\n",
              "      <td>[-0.029647125, 0.04197969, -0.07493527, -0.009...</td>\n",
              "    </tr>\n",
              "  </tbody>\n",
              "</table>\n",
              "</div>"
            ],
            "text/plain": [
              "  label  ...                                                vec\n",
              "0   neg  ...  [-0.06373213, -0.014791698, -0.043276977, -0.0...\n",
              "1   neg  ...  [-0.060514063, 0.10852452, -0.0699839, -0.0061...\n",
              "2   pos  ...  [-0.019276105, 0.08678125, -0.022997232, -0.01...\n",
              "3   pos  ...  [0.052097797, 0.041514337, 0.020066146, 0.0244...\n",
              "4   neg  ...  [-0.029647125, 0.04197969, -0.07493527, -0.009...\n",
              "\n",
              "[5 rows x 3 columns]"
            ]
          },
          "metadata": {
            "tags": []
          },
          "execution_count": 44
        }
      ]
    },
    {
      "cell_type": "code",
      "metadata": {
        "id": "q7d8UvBH01K4"
      },
      "source": [
        "X = df['vec'].to_numpy()\n",
        "X = X.reshape(-1, 1)"
      ],
      "execution_count": 45,
      "outputs": []
    },
    {
      "cell_type": "code",
      "metadata": {
        "colab": {
          "base_uri": "https://localhost:8080/"
        },
        "id": "z1fnimzIUATn",
        "outputId": "b3b018c1-0210-4462-8a1c-eb3b467e61bb"
      },
      "source": [
        "X.shape"
      ],
      "execution_count": 46,
      "outputs": [
        {
          "output_type": "execute_result",
          "data": {
            "text/plain": [
              "(2000, 1)"
            ]
          },
          "metadata": {
            "tags": []
          },
          "execution_count": 46
        }
      ]
    },
    {
      "cell_type": "code",
      "metadata": {
        "colab": {
          "base_uri": "https://localhost:8080/"
        },
        "id": "HrR5ybhQUEha",
        "outputId": "be939fe1-cc05-4e02-a1ec-c2a4951018ac"
      },
      "source": [
        "X[1]"
      ],
      "execution_count": 50,
      "outputs": [
        {
          "output_type": "execute_result",
          "data": {
            "text/plain": [
              "array([array([-6.05140626e-02,  1.08524524e-01, -6.99838996e-02, -6.15728553e-03,\n",
              "        5.51669225e-02,  1.39517272e-02,  3.92269753e-02, -1.11439049e-01,\n",
              "        2.96774246e-02,  1.63691354e+00, -6.76779747e-02, -6.39094855e-04,\n",
              "       -2.18784604e-02, -3.28014567e-02, -7.24309534e-02,  3.92308123e-02,\n",
              "        9.30500124e-03,  7.23430216e-01, -7.72650093e-02, -1.49337407e-02,\n",
              "        1.84103400e-02, -9.10724029e-02,  2.96378285e-02, -8.29202384e-02,\n",
              "        4.88922708e-02,  3.51442359e-02, -3.50006670e-02, -1.10688591e-02,\n",
              "       -1.18661905e-02, -6.76927343e-02, -9.41737741e-02,  3.00515480e-02,\n",
              "       -7.88533837e-02,  3.69318761e-02,  8.63113478e-02, -2.28764955e-02,\n",
              "        3.93185876e-02,  5.70956385e-03, -8.51338729e-02,  5.13565121e-03,\n",
              "        5.96090667e-02, -1.09776361e-02, -4.86078896e-02, -5.98297678e-02,\n",
              "        3.95146385e-02, -2.42410153e-02, -1.00070924e-01,  1.77012701e-02,\n",
              "        1.20957745e-02,  2.50435881e-02,  5.02591813e-03,  5.71302231e-03,\n",
              "        2.73334533e-02, -5.30237630e-02,  1.67530533e-02,  4.01326902e-02,\n",
              "       -7.74057582e-02, -3.05702500e-02,  2.25224383e-02, -7.79669881e-02,\n",
              "       -7.90709853e-02, -2.14258395e-03,  2.36778156e-04, -7.13867228e-03,\n",
              "        6.64766282e-02, -8.31502527e-02, -5.12652509e-02, -1.16118696e-02,\n",
              "        1.87042579e-02, -1.33917481e-02,  4.93767262e-02, -4.89850119e-02,\n",
              "        1.52729237e-02, -2.96641700e-02,  2.45981030e-02,  2.78924890e-02,\n",
              "       -2.79890653e-02, -3.69466434e-04,  1.46391625e-02,  5.10990880e-02,\n",
              "        1.03336936e-02,  1.24770813e-02, -6.58704117e-02,  4.47536856e-02,\n",
              "       -3.30703445e-02, -8.04631487e-02,  2.02984080e-01, -7.26828352e-02,\n",
              "        9.71512198e-02, -6.01607077e-02, -1.54776022e-01, -4.46710140e-02,\n",
              "       -6.12252019e-02,  4.02965657e-02,  9.71158221e-02, -8.20011050e-02,\n",
              "        3.64390090e-02,  5.44615882e-03, -4.43713069e-02, -4.42295074e-02,\n",
              "        3.65826674e-02, -2.12244503e-02,  9.12641827e-03, -5.15423110e-03,\n",
              "        6.70446232e-02, -8.95852983e-01,  3.15281264e-02, -2.81898212e-02,\n",
              "       -3.56585756e-02, -7.73895672e-03,  2.67595500e-02,  1.41815115e-02,\n",
              "        6.26130775e-03, -6.01409338e-02,  1.35285128e-02, -1.97849376e-03,\n",
              "        6.88544735e-02,  1.22153033e-02,  4.13180403e-02,  2.47162972e-02,\n",
              "       -4.06718701e-02, -5.18500321e-02, -6.91151917e-02,  4.12738845e-02,\n",
              "        2.58488692e-02,  1.28081795e-02, -5.02516516e-02, -7.57711567e-03,\n",
              "       -5.40980659e-02, -6.81878626e-03,  2.98165660e-02,  3.12051196e-02,\n",
              "        3.56864147e-02,  5.47343283e-04,  5.25525175e-02,  2.02571601e-02,\n",
              "       -4.99272235e-02, -2.59698033e-02,  1.61958095e-02, -6.79424480e-02,\n",
              "       -1.41223216e+00,  5.55272214e-03,  2.93951370e-02,  4.95053567e-02,\n",
              "       -8.58158022e-02, -4.13989201e-02, -5.08254394e-03, -4.50274982e-02,\n",
              "        3.53472284e-03, -6.94314390e-03, -1.71546498e-03,  5.68194222e-03,\n",
              "        2.80733891e-02,  5.83457341e-03, -9.32445098e-03, -5.59879169e-02,\n",
              "       -4.47459258e-02, -1.41176730e-01,  2.81405579e-02, -1.02789514e-01,\n",
              "        1.51712801e-02, -7.76276588e-02, -5.21120206e-02,  3.88955176e-02,\n",
              "       -4.49361687e-04, -6.41115159e-02,  1.85132790e-02, -5.69979101e-02,\n",
              "        1.38814971e-02, -3.74667123e-02, -5.71558848e-02, -4.36233431e-02,\n",
              "        8.06592628e-02, -3.74139808e-02,  4.82989512e-02, -1.68076698e-02,\n",
              "       -3.69620323e-02,  2.05053035e-02, -7.30066001e-03,  2.60379771e-03,\n",
              "        1.67229082e-02,  6.94018789e-03, -1.63734388e-02,  4.53184068e-04,\n",
              "        3.31174061e-02,  2.96340324e-02, -5.96647374e-02,  2.38988455e-02,\n",
              "       -4.59745573e-03, -3.38275507e-02, -4.57386971e-02, -3.59201580e-02,\n",
              "       -4.55003232e-02,  1.75259039e-02,  2.84195319e-03, -4.16115783e-02,\n",
              "       -7.59692723e-03, -6.19262047e-02,  5.56587502e-02,  6.63990974e-02,\n",
              "       -1.52048217e-02, -1.89145524e-02, -5.61177544e-02, -5.22522442e-02,\n",
              "       -2.79873982e-02,  4.89180274e-02, -2.85603590e-02, -4.08960581e-02,\n",
              "       -1.26509077e-03,  4.51551229e-02, -8.85478705e-02,  2.32268702e-02,\n",
              "        4.33805808e-02, -8.95742327e-02,  5.38986996e-02,  9.79409143e-02,\n",
              "        7.64135718e-02,  1.53084025e-02, -7.88264498e-02, -5.72826304e-02,\n",
              "        5.10007143e-03, -8.31078552e-03, -3.82681489e-02,  9.68854409e-03,\n",
              "        4.07211483e-02, -2.45043840e-02, -5.88403828e-02,  9.00826417e-03,\n",
              "        7.51535669e-02,  3.48413829e-04, -8.95719454e-02,  5.15400097e-02,\n",
              "        4.30137888e-02,  6.27176240e-02, -8.13378170e-02, -5.07749617e-02,\n",
              "        3.60333361e-02,  2.28638835e-02, -6.45702034e-02,  5.79937473e-02,\n",
              "        4.99225520e-02,  1.15537383e-02,  3.59020531e-02, -6.09850371e-03,\n",
              "        9.31468979e-03,  3.46874539e-03, -3.49739194e-02,  2.27219006e-03,\n",
              "       -3.90323997e-02,  5.60185723e-02,  1.20061198e-02,  2.95092035e-02,\n",
              "       -2.98783071e-02,  3.01322015e-03, -3.40192355e-02,  9.02621001e-02,\n",
              "        4.80540320e-02, -2.25319783e-03, -2.45024748e-02, -1.58570856e-02,\n",
              "        2.98191644e-02,  1.16561778e-01,  3.25601399e-02,  2.46563982e-02,\n",
              "        4.88478085e-03, -1.25404065e-02, -1.45885302e-02,  2.32517496e-02,\n",
              "        1.34269103e-01,  6.52085394e-02, -1.09996423e-01,  2.07422934e-02,\n",
              "       -7.75358304e-02, -8.39814991e-02, -8.42845738e-02,  5.51923439e-02,\n",
              "        5.67932986e-03, -4.22053374e-02, -1.74658131e-02,  1.21812016e-01,\n",
              "        4.29986753e-02,  4.55862172e-02, -1.60185080e-02, -2.53393091e-02,\n",
              "       -1.68797281e-02, -1.64951514e-02,  2.62583885e-02, -1.65486373e-02,\n",
              "        5.31670228e-02, -7.97388852e-02, -4.95183915e-02,  6.87951744e-02,\n",
              "       -4.95345108e-02,  1.53191043e-02,  6.19091019e-02,  6.58858940e-02,\n",
              "        1.16988933e-02,  4.26605111e-03, -5.63255837e-03,  1.33243548e-02],\n",
              "      dtype=float32)], dtype=object)"
            ]
          },
          "metadata": {
            "tags": []
          },
          "execution_count": 50
        }
      ]
    },
    {
      "cell_type": "code",
      "metadata": {
        "id": "ZIURDJ0YUZeL"
      },
      "source": [
        "X = np.concatenate(np.concatenate(X, axis = 0), axis = 0).reshape(-1, 300)"
      ],
      "execution_count": 51,
      "outputs": []
    },
    {
      "cell_type": "code",
      "metadata": {
        "colab": {
          "base_uri": "https://localhost:8080/"
        },
        "id": "tJAukPw-UhFs",
        "outputId": "edf6815a-2838-4e80-db47-16c2b0b58dbb"
      },
      "source": [
        "X.shape"
      ],
      "execution_count": 52,
      "outputs": [
        {
          "output_type": "execute_result",
          "data": {
            "text/plain": [
              "(2000, 300)"
            ]
          },
          "metadata": {
            "tags": []
          },
          "execution_count": 52
        }
      ]
    },
    {
      "cell_type": "code",
      "metadata": {
        "id": "EXNMwwHJUj88"
      },
      "source": [
        "y = df['label']"
      ],
      "execution_count": 54,
      "outputs": []
    },
    {
      "cell_type": "code",
      "metadata": {
        "id": "DTlZTJ-E6ZIb"
      },
      "source": [
        "# train test split \n",
        "X_train, X_test, y_train, y_test = train_test_split(X,y, test_size = 0.2, random_state = 1,stratify = y)\n"
      ],
      "execution_count": 56,
      "outputs": []
    },
    {
      "cell_type": "code",
      "metadata": {
        "colab": {
          "base_uri": "https://localhost:8080/"
        },
        "id": "6vJHklq1UxvT",
        "outputId": "b5b7671b-a985-4ec0-925c-4d1511f0ce16"
      },
      "source": [
        "X_train.shape, X_test.shape"
      ],
      "execution_count": 57,
      "outputs": [
        {
          "output_type": "execute_result",
          "data": {
            "text/plain": [
              "((1600, 300), (400, 300))"
            ]
          },
          "metadata": {
            "tags": []
          },
          "execution_count": 57
        }
      ]
    },
    {
      "cell_type": "markdown",
      "metadata": {
        "id": "UF_Magb1AiMl"
      },
      "source": [
        "## Building Classifier"
      ]
    },
    {
      "cell_type": "code",
      "metadata": {
        "colab": {
          "base_uri": "https://localhost:8080/"
        },
        "id": "YH9BJPHBU4G9",
        "outputId": "50e0b0d0-6983-48be-fc36-de725b49d5cc"
      },
      "source": [
        "clf = LogisticRegression(solver='liblinear')\n",
        "clf.fit(X_train, y_train)"
      ],
      "execution_count": 58,
      "outputs": [
        {
          "output_type": "execute_result",
          "data": {
            "text/plain": [
              "LogisticRegression(C=1.0, class_weight=None, dual=False, fit_intercept=True,\n",
              "                   intercept_scaling=1, l1_ratio=None, max_iter=100,\n",
              "                   multi_class='auto', n_jobs=None, penalty='l2',\n",
              "                   random_state=None, solver='liblinear', tol=0.0001, verbose=0,\n",
              "                   warm_start=False)"
            ]
          },
          "metadata": {
            "tags": []
          },
          "execution_count": 58
        }
      ]
    },
    {
      "cell_type": "code",
      "metadata": {
        "id": "7_0EvUkRVBxV"
      },
      "source": [
        "y_pred = clf.predict(X_test)"
      ],
      "execution_count": 59,
      "outputs": []
    },
    {
      "cell_type": "code",
      "metadata": {
        "colab": {
          "base_uri": "https://localhost:8080/"
        },
        "id": "1sJ9i4OcVFRa",
        "outputId": "d660ebd2-6235-4ffa-e395-2c8bbe850845"
      },
      "source": [
        "from sklearn.metrics import accuracy_score, confusion_matrix,classification_report\n",
        "print(confusion_matrix(y_test,y_pred))\n",
        "print(\"Accuracy Score {}%\".format(round((accuracy_score(y_test,y_pred)*100),2)))\n",
        "print(classification_report(y_test,y_pred))"
      ],
      "execution_count": 61,
      "outputs": [
        {
          "output_type": "stream",
          "text": [
            "[[163  37]\n",
            " [ 39 161]]\n",
            "Accuracy Score 81.0%\n",
            "              precision    recall  f1-score   support\n",
            "\n",
            "         neg       0.81      0.81      0.81       200\n",
            "         pos       0.81      0.81      0.81       200\n",
            "\n",
            "    accuracy                           0.81       400\n",
            "   macro avg       0.81      0.81      0.81       400\n",
            "weighted avg       0.81      0.81      0.81       400\n",
            "\n"
          ],
          "name": "stdout"
        }
      ]
    },
    {
      "cell_type": "code",
      "metadata": {
        "colab": {
          "base_uri": "https://localhost:8080/"
        },
        "id": "Lfnj9V1y6dTC",
        "outputId": "ad191d3c-d7c2-470e-90f6-74bcd3e310c8"
      },
      "source": [
        "clf=LinearSVC(class_weight='balanced')\n",
        "clf.fit(X_train,y_train)"
      ],
      "execution_count": 64,
      "outputs": [
        {
          "output_type": "execute_result",
          "data": {
            "text/plain": [
              "LinearSVC(C=1.0, class_weight='balanced', dual=True, fit_intercept=True,\n",
              "          intercept_scaling=1, loss='squared_hinge', max_iter=1000,\n",
              "          multi_class='ovr', penalty='l2', random_state=None, tol=0.0001,\n",
              "          verbose=0)"
            ]
          },
          "metadata": {
            "tags": []
          },
          "execution_count": 64
        }
      ]
    },
    {
      "cell_type": "code",
      "metadata": {
        "id": "yHgYx8a38Aw2"
      },
      "source": [
        "y_pred=clf.predict(X_test)"
      ],
      "execution_count": 65,
      "outputs": []
    },
    {
      "cell_type": "code",
      "metadata": {
        "colab": {
          "base_uri": "https://localhost:8080/"
        },
        "id": "FnEilQI58ESU",
        "outputId": "2de01729-8dc9-4b87-b145-12d85137e2d4"
      },
      "source": [
        "print(confusion_matrix(y_test,y_pred))\n",
        "print(\"Accuracy Score {}%\".format(round((accuracy_score(y_test,y_pred)*100),2)))\n",
        "print(classification_report(y_test,y_pred))"
      ],
      "execution_count": 66,
      "outputs": [
        {
          "output_type": "stream",
          "text": [
            "[[165  35]\n",
            " [ 39 161]]\n",
            "Accuracy Score 81.5%\n",
            "              precision    recall  f1-score   support\n",
            "\n",
            "         neg       0.81      0.82      0.82       200\n",
            "         pos       0.82      0.81      0.81       200\n",
            "\n",
            "    accuracy                           0.81       400\n",
            "   macro avg       0.82      0.81      0.81       400\n",
            "weighted avg       0.82      0.81      0.81       400\n",
            "\n"
          ],
          "name": "stdout"
        }
      ]
    },
    {
      "cell_type": "code",
      "metadata": {
        "colab": {
          "base_uri": "https://localhost:8080/",
          "height": 282
        },
        "id": "cyUS9iNf8JHd",
        "outputId": "9cb93cf3-40e9-43a0-d28b-ed02e638a41a"
      },
      "source": [
        "import seaborn as sns\n",
        "sns.heatmap(confusion_matrix(y_test,y_pred), annot=True, cmap='Blues')"
      ],
      "execution_count": 67,
      "outputs": [
        {
          "output_type": "execute_result",
          "data": {
            "text/plain": [
              "<matplotlib.axes._subplots.AxesSubplot at 0x7f0991f56f10>"
            ]
          },
          "metadata": {
            "tags": []
          },
          "execution_count": 67
        },
        {
          "output_type": "display_data",
          "data": {
            "image/png": "[encoded data removed]",
            "text/plain": [
              "<Figure size 432x288 with 2 Axes>"
            ]
          },
          "metadata": {
            "tags": [],
            "needs_background": "light"
          }
        }
      ]
    },
    {
      "cell_type": "markdown",
      "metadata": {
        "id": "KokpVnFm8Uwa"
      },
      "source": [
        "## Test Against New Messages"
      ]
    },
    {
      "cell_type": "code",
      "metadata": {
        "id": "pniN6i2_8TSE"
      },
      "source": [
        "def pred(msg):\n",
        "  msg=get_clean(msg)\n",
        "  vec=get_vec(msg)\n",
        "  prediction = clf.predict(vec.reshape(1, -1))\n",
        "  return print(prediction)"
      ],
      "execution_count": 72,
      "outputs": []
    },
    {
      "cell_type": "code",
      "metadata": {
        "colab": {
          "base_uri": "https://localhost:8080/"
        },
        "id": "nTfOD3dD9AR2",
        "outputId": "9651cf3b-38cf-461f-ed2c-d01287058a00"
      },
      "source": [
        "pred(\"this mobile is rellay good, i like\")"
      ],
      "execution_count": 73,
      "outputs": [
        {
          "output_type": "stream",
          "text": [
            "['pos']\n"
          ],
          "name": "stdout"
        }
      ]
    }
  ]
}