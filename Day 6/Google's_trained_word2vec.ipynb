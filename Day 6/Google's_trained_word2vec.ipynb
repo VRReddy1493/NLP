{
 "cells": [
  {
   "cell_type": "markdown",
   "metadata": {
    "id": "TasAZfrqPM4K"
   },
   "source": [
    "# Sentiment analysis using Google's trained word2vec\n",
    "\n",
    "\n"
   ]
  },
  {
   "cell_type": "markdown",
   "metadata": {
    "id": "e35e4FwYbUDL"
   },
   "source": [
    "![download.jpg](data:image/jpeg;base64,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)"
   ]
  },
  {
   "cell_type": "code",
   "execution_count": 2,
   "metadata": {
    "id": "GnCAAQXBPZRM"
   },
   "outputs": [],
   "source": [
    "!mkdir -p ~/.kaggle\n",
    "!cp kaggle.json ~/.kaggle/\n",
    "!chmod 600 ~/.kaggle/kaggle.json"
   ]
  },
  {
   "cell_type": "code",
   "execution_count": 3,
   "metadata": {
    "colab": {
     "base_uri": "https://localhost:8080/"
    },
    "id": "xXj1xG3OPitd",
    "outputId": "8866623f-6377-4106-86e2-686760c2b8ed"
   },
   "outputs": [
    {
     "name": "stdout",
     "output_type": "stream",
     "text": [
      "Downloading twitter-airline-sentiment.zip to /content\n",
      "\r",
      "  0% 0.00/2.55M [00:00<?, ?B/s]\n",
      "\r",
      "100% 2.55M/2.55M [00:00<00:00, 42.2MB/s]\n"
     ]
    }
   ],
   "source": [
    "!kaggle datasets download -d crowdflower/twitter-airline-sentiment"
   ]
  },
  {
   "cell_type": "code",
   "execution_count": 43,
   "metadata": {
    "colab": {
     "base_uri": "https://localhost:8080/"
    },
    "id": "QCm9TIGNW3WR",
    "outputId": "6b9627f5-2617-432c-d6f6-a7834a449e75"
   },
   "outputs": [
    {
     "name": "stdout",
     "output_type": "stream",
     "text": [
      "Downloading googlenewsvectorsnegative300.zip to /content\n",
      "100% 1.64G/1.64G [00:17<00:00, 89.6MB/s]\n",
      "100% 1.64G/1.64G [00:17<00:00, 102MB/s] \n"
     ]
    }
   ],
   "source": [
    "!kaggle datasets download -d sandreds/googlenewsvectorsnegative300"
   ]
  },
  {
   "cell_type": "code",
   "execution_count": 44,
   "metadata": {
    "colab": {
     "base_uri": "https://localhost:8080/"
    },
    "id": "n62Vy-3dW8D_",
    "outputId": "51d3dcb8-1c29-4a5b-9d65-ab06090548f6"
   },
   "outputs": [
    {
     "name": "stdout",
     "output_type": "stream",
     "text": [
      "Archive:  googlenewsvectorsnegative300.zip\n",
      "  inflating: GoogleNews-vectors-negative300.bin  \n"
     ]
    }
   ],
   "source": [
    "!unzip \"googlenewsvectorsnegative300.zip\""
   ]
  },
  {
   "cell_type": "code",
   "execution_count": 5,
   "metadata": {
    "colab": {
     "base_uri": "https://localhost:8080/"
    },
    "id": "ERyAJnY7QO3d",
    "outputId": "8a219737-79b7-4db1-a02e-aceb73f3ba66"
   },
   "outputs": [
    {
     "name": "stdout",
     "output_type": "stream",
     "text": [
      "Archive:  twitter-airline-sentiment.zip\n",
      "  inflating: Tweets.csv              \n",
      "  inflating: database.sqlite         \n"
     ]
    }
   ],
   "source": [
    "!unzip \"twitter-airline-sentiment.zip\""
   ]
  },
  {
   "cell_type": "markdown",
   "metadata": {
    "id": "r9hHG59lP3BZ"
   },
   "source": [
    "## About the data set \n",
    "A sentiment analysis job about the problems of each major U.S. airline. Twitter data was scraped from February of 2015 and contributors were asked to first classify positive, negative, and neutral tweets, followed by categorizing negative reasons (such as \"late flight\" or \"rude service\")."
   ]
  },
  {
   "cell_type": "code",
   "execution_count": null,
   "metadata": {
    "id": "1C_5oARlfSam"
   },
   "outputs": [],
   "source": []
  },
  {
   "cell_type": "markdown",
   "metadata": {
    "id": "rsc66slvfcfN"
   },
   "source": [
    "## Import the libraries"
   ]
  },
  {
   "cell_type": "code",
   "execution_count": 12,
   "metadata": {
    "id": "R0-bfQarPw0f"
   },
   "outputs": [],
   "source": [
    "import numpy as np \n",
    "import pandas as pd\n",
    "import matplotlib.pyplot as plt\n",
    "import seaborn as sns \n",
    "from string import punctuation\n",
    "import pickle , re\n",
    "from gensim.models.keyedvectors import KeyedVectors\n",
    "from sklearn.model_selection import train_test_split\n",
    "from sklearn.metrics import accuracy_score\n",
    "from sklearn.linear_model import LogisticRegression\n",
    "from sklearn.ensemble import RandomForestClassifier\n",
    "from nltk.stem import WordNetLemmatizer\n",
    "from sklearn.utils import resample\n",
    "from sklearn.utils import shuffle"
   ]
  },
  {
   "cell_type": "markdown",
   "metadata": {
    "id": "cQE2b1-kfgsB"
   },
   "source": [
    "## Read Data set"
   ]
  },
  {
   "cell_type": "code",
   "execution_count": 32,
   "metadata": {
    "id": "DZlqT186QMol"
   },
   "outputs": [],
   "source": [
    "data = pd.read_csv('Tweets.csv')"
   ]
  },
  {
   "cell_type": "code",
   "execution_count": 33,
   "metadata": {
    "colab": {
     "base_uri": "https://localhost:8080/",
     "height": 626
    },
    "id": "Nm5CExwrQzUS",
    "outputId": "f5bed548-37c8-4ebe-9f98-094edd434f68"
   },
   "outputs": [
    {
     "data": {
      "text/html": [
       "<div>\n",
       "<style scoped>\n",
       "    .dataframe tbody tr th:only-of-type {\n",
       "        vertical-align: middle;\n",
       "    }\n",
       "\n",
       "    .dataframe tbody tr th {\n",
       "        vertical-align: top;\n",
       "    }\n",
       "\n",
       "    .dataframe thead th {\n",
       "        text-align: right;\n",
       "    }\n",
       "</style>\n",
       "<table border=\"1\" class=\"dataframe\">\n",
       "  <thead>\n",
       "    <tr style=\"text-align: right;\">\n",
       "      <th></th>\n",
       "      <th>tweet_id</th>\n",
       "      <th>airline_sentiment</th>\n",
       "      <th>airline_sentiment_confidence</th>\n",
       "      <th>negativereason</th>\n",
       "      <th>negativereason_confidence</th>\n",
       "      <th>airline</th>\n",
       "      <th>airline_sentiment_gold</th>\n",
       "      <th>name</th>\n",
       "      <th>negativereason_gold</th>\n",
       "      <th>retweet_count</th>\n",
       "      <th>text</th>\n",
       "      <th>tweet_coord</th>\n",
       "      <th>tweet_created</th>\n",
       "      <th>tweet_location</th>\n",
       "      <th>user_timezone</th>\n",
       "    </tr>\n",
       "  </thead>\n",
       "  <tbody>\n",
       "    <tr>\n",
       "      <th>0</th>\n",
       "      <td>570306133677760513</td>\n",
       "      <td>neutral</td>\n",
       "      <td>1.0000</td>\n",
       "      <td>NaN</td>\n",
       "      <td>NaN</td>\n",
       "      <td>Virgin America</td>\n",
       "      <td>NaN</td>\n",
       "      <td>cairdin</td>\n",
       "      <td>NaN</td>\n",
       "      <td>0</td>\n",
       "      <td>@VirginAmerica What @dhepburn said.</td>\n",
       "      <td>NaN</td>\n",
       "      <td>2015-02-24 11:35:52 -0800</td>\n",
       "      <td>NaN</td>\n",
       "      <td>Eastern Time (US &amp; Canada)</td>\n",
       "    </tr>\n",
       "    <tr>\n",
       "      <th>1</th>\n",
       "      <td>570301130888122368</td>\n",
       "      <td>positive</td>\n",
       "      <td>0.3486</td>\n",
       "      <td>NaN</td>\n",
       "      <td>0.0000</td>\n",
       "      <td>Virgin America</td>\n",
       "      <td>NaN</td>\n",
       "      <td>jnardino</td>\n",
       "      <td>NaN</td>\n",
       "      <td>0</td>\n",
       "      <td>@VirginAmerica plus you've added commercials to the experience... tacky.</td>\n",
       "      <td>NaN</td>\n",
       "      <td>2015-02-24 11:15:59 -0800</td>\n",
       "      <td>NaN</td>\n",
       "      <td>Pacific Time (US &amp; Canada)</td>\n",
       "    </tr>\n",
       "    <tr>\n",
       "      <th>2</th>\n",
       "      <td>570301083672813571</td>\n",
       "      <td>neutral</td>\n",
       "      <td>0.6837</td>\n",
       "      <td>NaN</td>\n",
       "      <td>NaN</td>\n",
       "      <td>Virgin America</td>\n",
       "      <td>NaN</td>\n",
       "      <td>yvonnalynn</td>\n",
       "      <td>NaN</td>\n",
       "      <td>0</td>\n",
       "      <td>@VirginAmerica I didn't today... Must mean I need to take another trip!</td>\n",
       "      <td>NaN</td>\n",
       "      <td>2015-02-24 11:15:48 -0800</td>\n",
       "      <td>Lets Play</td>\n",
       "      <td>Central Time (US &amp; Canada)</td>\n",
       "    </tr>\n",
       "    <tr>\n",
       "      <th>3</th>\n",
       "      <td>570301031407624196</td>\n",
       "      <td>negative</td>\n",
       "      <td>1.0000</td>\n",
       "      <td>Bad Flight</td>\n",
       "      <td>0.7033</td>\n",
       "      <td>Virgin America</td>\n",
       "      <td>NaN</td>\n",
       "      <td>jnardino</td>\n",
       "      <td>NaN</td>\n",
       "      <td>0</td>\n",
       "      <td>@VirginAmerica it's really aggressive to blast obnoxious \"entertainment\" in your guests' faces &amp;amp; they have little recourse</td>\n",
       "      <td>NaN</td>\n",
       "      <td>2015-02-24 11:15:36 -0800</td>\n",
       "      <td>NaN</td>\n",
       "      <td>Pacific Time (US &amp; Canada)</td>\n",
       "    </tr>\n",
       "    <tr>\n",
       "      <th>4</th>\n",
       "      <td>570300817074462722</td>\n",
       "      <td>negative</td>\n",
       "      <td>1.0000</td>\n",
       "      <td>Can't Tell</td>\n",
       "      <td>1.0000</td>\n",
       "      <td>Virgin America</td>\n",
       "      <td>NaN</td>\n",
       "      <td>jnardino</td>\n",
       "      <td>NaN</td>\n",
       "      <td>0</td>\n",
       "      <td>@VirginAmerica and it's a really big bad thing about it</td>\n",
       "      <td>NaN</td>\n",
       "      <td>2015-02-24 11:14:45 -0800</td>\n",
       "      <td>NaN</td>\n",
       "      <td>Pacific Time (US &amp; Canada)</td>\n",
       "    </tr>\n",
       "  </tbody>\n",
       "</table>\n",
       "</div>"
      ],
      "text/plain": [
       "             tweet_id  ...               user_timezone\n",
       "0  570306133677760513  ...  Eastern Time (US & Canada)\n",
       "1  570301130888122368  ...  Pacific Time (US & Canada)\n",
       "2  570301083672813571  ...  Central Time (US & Canada)\n",
       "3  570301031407624196  ...  Pacific Time (US & Canada)\n",
       "4  570300817074462722  ...  Pacific Time (US & Canada)\n",
       "\n",
       "[5 rows x 15 columns]"
      ]
     },
     "execution_count": 33,
     "metadata": {
      "tags": []
     },
     "output_type": "execute_result"
    }
   ],
   "source": [
    "data.head()"
   ]
  },
  {
   "cell_type": "code",
   "execution_count": 34,
   "metadata": {
    "colab": {
     "base_uri": "https://localhost:8080/"
    },
    "id": "YnQpOG6XQa4M",
    "outputId": "b2ca156a-6384-4da0-9bfd-938c0ece8fd8"
   },
   "outputs": [
    {
     "data": {
      "text/plain": [
       "(14640, 15)"
      ]
     },
     "execution_count": 34,
     "metadata": {
      "tags": []
     },
     "output_type": "execute_result"
    }
   ],
   "source": [
    "data.shape"
   ]
  },
  {
   "cell_type": "code",
   "execution_count": 35,
   "metadata": {
    "colab": {
     "base_uri": "https://localhost:8080/"
    },
    "id": "o1amra1nRIF_",
    "outputId": "c4e584ca-5c7f-4e48-985e-c255d6548314"
   },
   "outputs": [
    {
     "name": "stdout",
     "output_type": "stream",
     "text": [
      "negative    9178\n",
      "neutral     3099\n",
      "positive    2363\n",
      "Name: airline_sentiment, dtype: int64\n"
     ]
    }
   ],
   "source": [
    "sentiment_counts = data.airline_sentiment.value_counts()\n",
    "print(sentiment_counts)"
   ]
  },
  {
   "cell_type": "code",
   "execution_count": 36,
   "metadata": {
    "colab": {
     "base_uri": "https://localhost:8080/"
    },
    "id": "IG5I2w01RPjs",
    "outputId": "21bc0914-d206-4226-a7e6-af29f46b8e17"
   },
   "outputs": [
    {
     "name": "stdout",
     "output_type": "stream",
     "text": [
      "14640\n"
     ]
    }
   ],
   "source": [
    "number_of_tweets = data.tweet_id.count()\n",
    "print(number_of_tweets)"
   ]
  },
  {
   "cell_type": "code",
   "execution_count": 37,
   "metadata": {
    "colab": {
     "base_uri": "https://localhost:8080/",
     "height": 429
    },
    "id": "F1wspHGuR2JV",
    "outputId": "02c54d5f-6e7b-4b06-fcef-5f81adc1d46c"
   },
   "outputs": [
    {
     "name": "stderr",
     "output_type": "stream",
     "text": [
      "/usr/local/lib/python3.7/dist-packages/seaborn/_decorators.py:43: FutureWarning: Pass the following variable as a keyword arg: x. From version 0.12, the only valid positional argument will be `data`, and passing other arguments without an explicit keyword will result in an error or misinterpretation.\n",
      "  FutureWarning\n"
     ]
    },
    {
     "data": {
      "image/png": "[encoded data removed]",
      "text/plain": [
       "<Figure size 1440x360 with 2 Axes>"
      ]
     },
     "metadata": {
      "needs_background": "light",
      "tags": []
     },
     "output_type": "display_data"
    }
   ],
   "source": [
    "figsize=(20, 5)\n",
    "\n",
    "ticksize = 14\n",
    "titlesize = ticksize + 8\n",
    "labelsize = ticksize + 5\n",
    "\n",
    "params = {'figure.figsize' : figsize,\n",
    "          'axes.labelsize' : labelsize,\n",
    "          'axes.titlesize' : titlesize,\n",
    "          'xtick.labelsize': ticksize,\n",
    "          'ytick.labelsize': ticksize}\n",
    "\n",
    "plt.rcParams.update(params)\n",
    "\n",
    "plt.subplot(121)\n",
    "col = \"airline\"\n",
    "xlabel = \"Airlines\"\n",
    "ylabel = \"Count\"\n",
    "\n",
    "sns.countplot(x=data[col])\n",
    "plt.title(\"Airlines Review Count\")\n",
    "plt.xticks(rotation=90)\n",
    "plt.xlabel(xlabel)\n",
    "plt.ylabel(ylabel)\n",
    "\n",
    "\n",
    "plt.subplot(122)\n",
    "col = \"airline_sentiment\"\n",
    "xlabel = \"Sentiment\"\n",
    "ylabel = \"Count\"\n",
    "sns.countplot(data[col])\n",
    "plt.title(\"Review Sentiment Count\")\n",
    "plt.xlabel(xlabel)\n",
    "plt.ylabel(ylabel)\n",
    "plt.xticks(rotation=90)\n",
    "plt.plot()\n",
    "plt.show()"
   ]
  },
  {
   "cell_type": "markdown",
   "metadata": {
    "id": "gQf8wvhWSY2h"
   },
   "source": [
    "objervations:\n",
    "Most of the review present here are negative.\n",
    "Highest number of tweets are about \"United Airlines\", \"US Airlines\" and \"American Airlines\""
   ]
  },
  {
   "cell_type": "code",
   "execution_count": 38,
   "metadata": {
    "colab": {
     "base_uri": "https://localhost:8080/",
     "height": 472
    },
    "id": "431R4U9AScpW",
    "outputId": "99ad2f33-b749-43d1-b173-7d20069200a2"
   },
   "outputs": [
    {
     "data": {
      "text/plain": [
       "[]"
      ]
     },
     "execution_count": 38,
     "metadata": {
      "tags": []
     },
     "output_type": "execute_result"
    },
    {
     "data": {
      "image/png": "[encoded data removed]",
      "text/plain": [
       "<Figure size 1440x360 with 1 Axes>"
      ]
     },
     "metadata": {
      "needs_background": "light",
      "tags": []
     },
     "output_type": "display_data"
    }
   ],
   "source": [
    "figsize=(20, 5)\n",
    "\n",
    "ticksize = 14\n",
    "titlesize = ticksize + 8\n",
    "labelsize = ticksize + 5\n",
    "\n",
    "xlabel = \"Negative Reason\"\n",
    "ylabel = \"Count\"\n",
    "\n",
    "title = \"Negative Reason Per Airlines\"\n",
    "\n",
    "\n",
    "params = {'figure.figsize' : figsize,\n",
    "          'axes.labelsize' : labelsize,\n",
    "          'axes.titlesize' : titlesize,\n",
    "          'xtick.labelsize': ticksize,\n",
    "          'ytick.labelsize': ticksize}\n",
    "\n",
    "plt.rcParams.update(params)\n",
    "\n",
    "col1 = \"negativereason\"\n",
    "col2 = \"airline\"\n",
    "sns.countplot(x=data[col1], hue=data[col2])\n",
    "plt.title(title)\n",
    "plt.xlabel(xlabel)\n",
    "plt.ylabel(ylabel)\n",
    "plt.xticks(rotation=90)\n",
    "plt.plot()\n"
   ]
  },
  {
   "cell_type": "markdown",
   "metadata": {
    "id": "_73zznyaS1x_"
   },
   "source": [
    "Most of the negative tweets are about \"Customer Service Issue\"."
   ]
  },
  {
   "cell_type": "code",
   "execution_count": 39,
   "metadata": {
    "colab": {
     "base_uri": "https://localhost:8080/",
     "height": 374
    },
    "id": "-fPb8gkGS32f",
    "outputId": "7aa3aba7-a17c-4de0-84b0-e0fc228df1dd"
   },
   "outputs": [
    {
     "data": {
      "text/plain": [
       "[]"
      ]
     },
     "execution_count": 39,
     "metadata": {
      "tags": []
     },
     "output_type": "execute_result"
    },
    {
     "data": {
      "image/png": "[encoded data removed]",
      "text/plain": [
       "<Figure size 1440x360 with 1 Axes>"
      ]
     },
     "metadata": {
      "needs_background": "light",
      "tags": []
     },
     "output_type": "display_data"
    }
   ],
   "source": [
    "figsize=(20, 5)\n",
    "\n",
    "ticksize = 14\n",
    "titlesize = ticksize + 8\n",
    "labelsize = ticksize + 5\n",
    "\n",
    "xlabel = \"Airlines\"\n",
    "ylabel = \"Count\"\n",
    "\n",
    "\n",
    "params = {'figure.figsize' : figsize,\n",
    "          'axes.labelsize' : labelsize,\n",
    "          'axes.titlesize' : titlesize,\n",
    "          'xtick.labelsize': ticksize,\n",
    "          'ytick.labelsize': ticksize}\n",
    "\n",
    "plt.rcParams.update(params)\n",
    "\n",
    "plt.figure(figsize=figsize)\n",
    "col1 = \"airline\"\n",
    "col2 = \"airline_sentiment\"\n",
    "sns.countplot(x=data[col1], hue=data[col2])\n",
    "plt.xlabel(xlabel)\n",
    "plt.ylabel(ylabel)\n",
    "plt.xticks(rotation=90)\n",
    "plt.plot()"
   ]
  },
  {
   "cell_type": "code",
   "execution_count": 40,
   "metadata": {
    "colab": {
     "base_uri": "https://localhost:8080/",
     "height": 384
    },
    "id": "2U8dfAV2SvzT",
    "outputId": "a7d437aa-5cab-443e-9170-0dc7c26e25a3"
   },
   "outputs": [
    {
     "name": "stderr",
     "output_type": "stream",
     "text": [
      "/usr/local/lib/python3.7/dist-packages/seaborn/distributions.py:2557: FutureWarning: `distplot` is a deprecated function and will be removed in a future version. Please adapt your code to use either `displot` (a figure-level function with similar flexibility) or `histplot` (an axes-level function for histograms).\n",
      "  warnings.warn(msg, FutureWarning)\n"
     ]
    },
    {
     "data": {
      "text/plain": [
       "[]"
      ]
     },
     "execution_count": 40,
     "metadata": {
      "tags": []
     },
     "output_type": "execute_result"
    },
    {
     "data": {
      "image/png": "[encoded data removed]",
      "text/plain": [
       "<Figure size 1296x360 with 1 Axes>"
      ]
     },
     "metadata": {
      "needs_background": "light",
      "tags": []
     },
     "output_type": "display_data"
    }
   ],
   "source": [
    "x = data[\"negativereason_confidence\"].fillna(-1)\n",
    "\n",
    "figsize=(18, 5)\n",
    "\n",
    "ticksize = 12\n",
    "titlesize = ticksize + 8\n",
    "labelsize = ticksize + 5\n",
    "\n",
    "params = {'figure.figsize' : figsize,\n",
    "          'axes.labelsize' : labelsize,\n",
    "          'axes.titlesize' : titlesize,\n",
    "          'xtick.labelsize': ticksize,\n",
    "          'ytick.labelsize': ticksize}\n",
    "\n",
    "plt.rcParams.update(params)\n",
    "sns.distplot(x)\n",
    "plt.plot()"
   ]
  },
  {
   "cell_type": "markdown",
   "metadata": {
    "id": "pzUXXWe4WEUl"
   },
   "source": [
    "## over-sampling"
   ]
  },
  {
   "cell_type": "code",
   "execution_count": 41,
   "metadata": {
    "colab": {
     "base_uri": "https://localhost:8080/"
    },
    "id": "Ka1SbbdKWEAo",
    "outputId": "e262aaef-e710-49f3-f1e2-826f0e39f82c"
   },
   "outputs": [
    {
     "name": "stdout",
     "output_type": "stream",
     "text": [
      "9178 3099 2363\n"
     ]
    }
   ],
   "source": [
    "df_class_0 = data[data['airline_sentiment'] == 'negative']\n",
    "df_class_1 = data[data['airline_sentiment'] == 'positive']\n",
    "df_class_2 = data[data['airline_sentiment'] == 'neutral']\n",
    "target_count = data.airline_sentiment.value_counts()\n",
    "    \n",
    "print(target_count[0] , target_count[1] , target_count[2])\n",
    "df_class_1_over = df_class_1.sample(target_count[0], replace=True)\n",
    "df_class_2_over = df_class_2.sample(target_count[0], replace=True)\n",
    "\n",
    "\n",
    "df_test_over_total = pd.concat([df_class_0,df_class_1_over, df_class_2_over ], axis=0)"
   ]
  },
  {
   "cell_type": "code",
   "execution_count": 42,
   "metadata": {
    "colab": {
     "base_uri": "https://localhost:8080/"
    },
    "id": "M-cYy02KWZBt",
    "outputId": "9bd21963-5710-4dc9-bd1f-8b5e123cd0ae"
   },
   "outputs": [
    {
     "name": "stdout",
     "output_type": "stream",
     "text": [
      "Random over-sampling:\n",
      "neutral     9178\n",
      "negative    9178\n",
      "positive    9178\n",
      "Name: airline_sentiment, dtype: int64\n"
     ]
    }
   ],
   "source": [
    "print('Random over-sampling:')\n",
    "print(df_test_over_total.airline_sentiment.value_counts())"
   ]
  },
  {
   "cell_type": "markdown",
   "metadata": {
    "id": "XyrAqllZfnwC"
   },
   "source": [
    "## Word2vec"
   ]
  },
  {
   "cell_type": "code",
   "execution_count": 45,
   "metadata": {
    "id": "528Qta0wXQiR"
   },
   "outputs": [],
   "source": [
    "model = KeyedVectors.load_word2vec_format('GoogleNews-vectors-negative300.bin', binary=True )"
   ]
  },
  {
   "cell_type": "code",
   "execution_count": 46,
   "metadata": {
    "colab": {
     "base_uri": "https://localhost:8080/"
    },
    "id": "NlLTmVCgXaD6",
    "outputId": "df8f5b60-df3a-4e4e-92ae-77ade7424abf"
   },
   "outputs": [
    {
     "name": "stderr",
     "output_type": "stream",
     "text": [
      "/usr/local/lib/python3.7/dist-packages/ipykernel_launcher.py:1: DeprecationWarning: Call to deprecated `wv` (Attribute will be removed in 4.0.0, use self instead).\n",
      "  \"\"\"Entry point for launching an IPython kernel.\n"
     ]
    }
   ],
   "source": [
    "word_vectors = model.wv\n",
    "\n",
    "def sentenceEmbedding(tokens):\n",
    "    vectors=[]\n",
    "    for word in tokens:\n",
    "        if word not in word_vectors.vocab:\n",
    "            vectors.append([0]*300) #size of feature vector\n",
    "        else:\n",
    "            vectors.append(model[word])\n",
    "    \n",
    "    result=[0] * len(vectors[0])\n",
    "    res=0\n",
    "    for i in range(len(vectors[0])):\n",
    "         for vec in vectors:\n",
    "                res+=vec[i]\n",
    "         result[i]=(res/(len(tokens)))\n",
    "         res=0\n",
    "         \n",
    "    return result"
   ]
  },
  {
   "cell_type": "markdown",
   "metadata": {
    "id": "Rn6_PffzfuFU"
   },
   "source": [
    "## label Transformations"
   ]
  },
  {
   "cell_type": "code",
   "execution_count": 47,
   "metadata": {
    "id": "GrCd3tHTXiNy"
   },
   "outputs": [],
   "source": [
    "def mapSentiment(airlineSentiment):\n",
    "    if airlineSentiment == 'positive':\n",
    "        return 1\n",
    "    elif airlineSentiment == 'negative' :\n",
    "        return 0\n",
    "    else:\n",
    "        return 2"
   ]
  },
  {
   "cell_type": "markdown",
   "metadata": {
    "id": "S8eGOag4fzR0"
   },
   "source": [
    "## Data Cleaning"
   ]
  },
  {
   "cell_type": "code",
   "execution_count": 48,
   "metadata": {
    "id": "d4Y3VJp5XlVZ"
   },
   "outputs": [],
   "source": [
    "wordnet_lemmatizer = WordNetLemmatizer()\n",
    "def cleanString(sentences):\n",
    "    result=[]\n",
    "    for sen in sentences:\n",
    "        s=\"\"\n",
    "        r=\"\"\n",
    "        s+=(sen.lower()+' ')\n",
    "        s = re.sub(\"(@\\w* )\", ' ', s)\n",
    "        s = re.sub(\"\\\\bhttps://(.*) \\\\b\",' ',s) \n",
    "        s = re.sub(\"[^a-z0-9\\ ]+\", ' ', s)\n",
    "        s = re.sub(' \\d+', ' ', s)\n",
    "        s = re.sub(\" +\",' ',s)\n",
    "        tokens=s.split()\n",
    "        for w in tokens:\n",
    "             r+=wordnet_lemmatizer.lemmatize(w ,pos=\"v\")+\" \"\n",
    "        result.append(r)\n",
    "    return result"
   ]
  },
  {
   "cell_type": "code",
   "execution_count": 50,
   "metadata": {
    "id": "0oK3JCOoYBRk"
   },
   "outputs": [],
   "source": [
    "review=df_test_over_total.text\n",
    "label=df_test_over_total.airline_sentiment"
   ]
  },
  {
   "cell_type": "code",
   "execution_count": 51,
   "metadata": {
    "id": "bmsRTwC2X3hg"
   },
   "outputs": [],
   "source": [
    "label = [ mapSentiment(x) for x in label]\n",
    "review=cleanString(review)\n",
    "\n",
    "featureVectors=[]\n",
    "for r in review:\n",
    "    sentence=r.split()\n",
    "    featureVectors.append(sentenceEmbedding(sentence))"
   ]
  },
  {
   "cell_type": "markdown",
   "metadata": {
    "id": "YHLv8Oegf34A"
   },
   "source": [
    "## Split data Train and Test"
   ]
  },
  {
   "cell_type": "code",
   "execution_count": 52,
   "metadata": {
    "id": "eh6n2CI4YMrO"
   },
   "outputs": [],
   "source": [
    "X_train, X_test, y_train, y_test = train_test_split(featureVectors, label, test_size=0.2, random_state=42)"
   ]
  },
  {
   "cell_type": "markdown",
   "metadata": {
    "id": "0GwT5ZSbf7_y"
   },
   "source": [
    "## Logistic Regression"
   ]
  },
  {
   "cell_type": "code",
   "execution_count": 53,
   "metadata": {
    "colab": {
     "base_uri": "https://localhost:8080/"
    },
    "id": "3mZyU-7_YP0n",
    "outputId": "0c9d28b7-eecd-4d3b-b561-1dc40001f40f"
   },
   "outputs": [
    {
     "data": {
      "text/plain": [
       "LogisticRegression(C=10000000.0, class_weight=None, dual=False,\n",
       "                   fit_intercept=True, intercept_scaling=1, l1_ratio=None,\n",
       "                   max_iter=100, multi_class='auto', n_jobs=None, penalty='l2',\n",
       "                   random_state=None, solver='newton-cg', tol=0.0001, verbose=0,\n",
       "                   warm_start=False)"
      ]
     },
     "execution_count": 53,
     "metadata": {
      "tags": []
     },
     "output_type": "execute_result"
    }
   ],
   "source": [
    "classification_model = LogisticRegression(solver='newton-cg', C=1e7)\n",
    "classification_model.fit(X_train, y_train)"
   ]
  },
  {
   "cell_type": "markdown",
   "metadata": {
    "id": "oIilhctOgAEg"
   },
   "source": [
    "## Predictions"
   ]
  },
  {
   "cell_type": "code",
   "execution_count": 54,
   "metadata": {
    "colab": {
     "base_uri": "https://localhost:8080/"
    },
    "id": "uOI7r9tHYShh",
    "outputId": "bac650ed-49e8-4d2c-d6a9-9de24f1b233d"
   },
   "outputs": [
    {
     "name": "stdout",
     "output_type": "stream",
     "text": [
      "prediction: [1 2 1 ... 0 1 0]\n"
     ]
    }
   ],
   "source": [
    "yPrediction = classification_model.predict(X_test)\n",
    "print(\"prediction:\" ,yPrediction)"
   ]
  },
  {
   "cell_type": "markdown",
   "metadata": {
    "id": "6F5VvvEggDDr"
   },
   "source": [
    "## Accuracy"
   ]
  },
  {
   "cell_type": "code",
   "execution_count": 55,
   "metadata": {
    "colab": {
     "base_uri": "https://localhost:8080/"
    },
    "id": "dEkeKxtxYWgY",
    "outputId": "4e70ae21-6173-4940-8c1b-ff4b8d88ceb9"
   },
   "outputs": [
    {
     "name": "stdout",
     "output_type": "stream",
     "text": [
      "Accuracy - LogisticRegression: 72.96168512801889\n"
     ]
    }
   ],
   "source": [
    "acc =accuracy_score(y_test, yPrediction)\n",
    "print(\"Accuracy - LogisticRegression:\",acc*100)"
   ]
  },
  {
   "cell_type": "markdown",
   "metadata": {
    "id": "38JMtjMegGzP"
   },
   "source": [
    "## Random Forest Classifier"
   ]
  },
  {
   "cell_type": "code",
   "execution_count": 59,
   "metadata": {
    "colab": {
     "base_uri": "https://localhost:8080/"
    },
    "id": "rm-dHSzwYh41",
    "outputId": "9c53b720-1519-4e97-f322-6a68b66074c7"
   },
   "outputs": [
    {
     "name": "stdout",
     "output_type": "stream",
     "text": [
      "prediction: [1 2 1 ... 0 1 0]\n",
      "Accuracy - RandomForestClassifier: 95.4966406391865\n"
     ]
    }
   ],
   "source": [
    "Model2=RandomForestClassifier(n_estimators=200)\n",
    "Model2.fit(X_train, y_train)\n",
    "yPrediction2 = Model2.predict(X_test)\n",
    "print(\"prediction:\" ,yPrediction2)\n"
   ]
  },
  {
   "cell_type": "markdown",
   "metadata": {
    "id": "UlRO1b7TgReD"
   },
   "source": [
    "## Accuracy - RandomForestClassifier"
   ]
  },
  {
   "cell_type": "code",
   "execution_count": 64,
   "metadata": {
    "colab": {
     "base_uri": "https://localhost:8080/"
    },
    "id": "eZI3w6XrZqf9",
    "outputId": "14d4075d-e6b2-4cd8-c49b-a62b18e23dac"
   },
   "outputs": [
    {
     "name": "stdout",
     "output_type": "stream",
     "text": [
      "Accuracy - RandomForestClassifier:95.5%\n"
     ]
    }
   ],
   "source": [
    "acc2 =accuracy_score(y_test, yPrediction2)\n",
    "print(\"Accuracy - RandomForestClassifier:{}%\".format(round(acc2 *100,2)))"
   ]
  },
  {
   "cell_type": "markdown",
   "metadata": {
    "id": "wfhoSt_ugNXr"
   },
   "source": [
    "## Save the model"
   ]
  },
  {
   "cell_type": "code",
   "execution_count": 65,
   "metadata": {
    "id": "ExZ0IapDYc0X"
   },
   "outputs": [],
   "source": [
    "filename = 'sentimentModel.sav'\n",
    "pickle.dump(classification_model, open(filename, 'wb'))"
   ]
  },
  {
   "cell_type": "markdown",
   "metadata": {
    "id": "ONU7_1OqaMuO"
   },
   "source": [
    "## user input"
   ]
  },
  {
   "cell_type": "code",
   "execution_count": 68,
   "metadata": {
    "colab": {
     "base_uri": "https://localhost:8080/"
    },
    "id": "PAA_KsMlaHnF",
    "outputId": "7c15761d-7671-4101-85dc-ef7952a793e4"
   },
   "outputs": [
    {
     "name": "stdout",
     "output_type": "stream",
     "text": [
      "Enter your review to test model:good\n",
      "['good']\n",
      "LogisticRegression:  Positive\n"
     ]
    }
   ],
   "source": [
    "while True:\n",
    "    userInput=input(\"Enter your review to test model:\")\n",
    "    userInput=cleanString([userInput])\n",
    "    userTokens=userInput[0].split()\n",
    "    \n",
    "    print(userTokens)\n",
    "    \n",
    "    fVec=sentenceEmbedding(userTokens)\n",
    "    y=classification_model.predict([fVec])\n",
    "    #y2=Model2.predict([fVec])\n",
    "    \n",
    "    if(y[0]==1):\n",
    "        print(\"LogisticRegression:  Positive\")\n",
    "    elif(y[0]==0):\n",
    "        print(\"LogisticRegression:  Negative\")\n",
    "    else:\n",
    "        print(\"LogisticRegression:  Neutral\")\n",
    "    \"\"\"  \n",
    "    if(y2[0]==1):\n",
    "        print(\"RandomForestClassifier:  Positive\")\n",
    "    elif(y2[0]==0):\n",
    "        print(\"RandomForestClassifier:  Negative\")\n",
    "    else:\n",
    "        print(\"RandomForestClassifier:  Neutral\")\"\"\"\n",
    "    break"
   ]
  }
 ],
 "metadata": {
  "colab": {
   "collapsed_sections": [],
   "name": "Google's trained word2vec.ipynb",
   "provenance": []
  },
  "kernelspec": {
   "display_name": "Python 3",
   "language": "python",
   "name": "python3"
  },
  "language_info": {
   "codemirror_mode": {
    "name": "ipython",
    "version": 3
   },
   "file_extension": ".py",
   "mimetype": "text/x-python",
   "name": "python",
   "nbconvert_exporter": "python",
   "pygments_lexer": "ipython3",
   "version": "3.8.5"
  }
 },
 "nbformat": 4,
 "nbformat_minor": 1
}
